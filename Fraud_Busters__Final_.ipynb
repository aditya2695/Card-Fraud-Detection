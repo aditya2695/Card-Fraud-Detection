{
 "cells": [
  {
   "cell_type": "markdown",
   "metadata": {
    "collapsed": false,
    "pycharm": {
     "name": "#%% md\n"
    }
   },
   "source": [
    "# <U> Detecting Fraudulent Transactions <u>"
   ]
  },
  {
   "cell_type": "markdown",
   "metadata": {
    "pycharm": {
     "name": "#%% md\n"
    }
   },
   "source": [
    "<li>Fraud detection in credit card transaction is an important area of study which attains its importance in the increasing fraud risk posed on credit card by fraudsters to steal money from others’ accounts. </li>\n",
    "\n",
    "<li>In the last several years, to identify fraud in credit card transaction the applications of machine learning has shown optimistic result; however, machine learning in the credit card transaction also has certain challenges. </li>\n",
    "\n",
    "<li>There are numerous proposed machine learning algorithms that can be used to detect fraud cases; however, not every model has been proved to be the best since each technique works well with a certain data set, and fraudsters improve themselves to avoid detection by current fraud detection systems.</li>"
   ]
  },
  {
   "cell_type": "markdown",
   "metadata": {
    "collapsed": false,
    "pycharm": {
     "name": "#%% md\n"
    }
   },
   "source": [
    "<img src=\"https://www.business2community.com/wp-content/uploads/2015/11/online-fraud.jpg\">"
   ]
  },
  {
   "cell_type": "markdown",
   "metadata": {
    "pycharm": {
     "name": "#%% md\n"
    }
   },
   "source": [
    "## Import Libraries"
   ]
  },
  {
   "cell_type": "code",
   "execution_count": 3,
   "metadata": {
    "collapsed": false,
    "pycharm": {
     "name": "#%%\n"
    }
   },
   "outputs": [],
   "source": [
    "import numpy as np\n",
    "import seaborn as sns\n",
    "import matplotlib.pyplot as plt\n",
    "import pandas as pd\n",
    "from sklearn.preprocessing import LabelEncoder\n",
    "from tqdm import tqdm\n",
    "import time\n",
    "\n",
    "from sklearn import metrics\n",
    "from sklearn.cluster import KMeans, AgglomerativeClustering, DBSCAN\n",
    "from sklearn.preprocessing import MinMaxScaler, StandardScaler\n",
    "from sklearn.decomposition import PCA\n",
    "\n",
    "from sklearn.preprocessing import StandardScaler"
   ]
  },
  {
   "cell_type": "markdown",
   "metadata": {
    "collapsed": false,
    "pycharm": {
     "name": "#%% md\n"
    }
   },
   "source": [
    "## Data Cleaning & Exploration"
   ]
  },
  {
   "cell_type": "code",
   "execution_count": 4,
   "metadata": {
    "collapsed": false,
    "pycharm": {
     "name": "#%%\n"
    }
   },
   "outputs": [
    {
     "data": {
      "text/html": [
       "<div>\n",
       "<style scoped>\n",
       "    .dataframe tbody tr th:only-of-type {\n",
       "        vertical-align: middle;\n",
       "    }\n",
       "\n",
       "    .dataframe tbody tr th {\n",
       "        vertical-align: top;\n",
       "    }\n",
       "\n",
       "    .dataframe thead th {\n",
       "        text-align: right;\n",
       "    }\n",
       "</style>\n",
       "<table border=\"1\" class=\"dataframe\">\n",
       "  <thead>\n",
       "    <tr style=\"text-align: right;\">\n",
       "      <th></th>\n",
       "      <th>User</th>\n",
       "      <th>Card</th>\n",
       "      <th>Year</th>\n",
       "      <th>Month</th>\n",
       "      <th>Day</th>\n",
       "      <th>Time</th>\n",
       "      <th>Amount</th>\n",
       "      <th>Use Chip</th>\n",
       "      <th>Merchant Name</th>\n",
       "      <th>Merchant City</th>\n",
       "      <th>Merchant State</th>\n",
       "      <th>Zip</th>\n",
       "      <th>MCC</th>\n",
       "      <th>Errors?</th>\n",
       "    </tr>\n",
       "  </thead>\n",
       "  <tbody>\n",
       "    <tr>\n",
       "      <th>0</th>\n",
       "      <td>0</td>\n",
       "      <td>0</td>\n",
       "      <td>2002</td>\n",
       "      <td>9</td>\n",
       "      <td>2</td>\n",
       "      <td>17:45</td>\n",
       "      <td>$128.95</td>\n",
       "      <td>Swipe Transaction</td>\n",
       "      <td>3414527459579106770</td>\n",
       "      <td>Monterey Park</td>\n",
       "      <td>CA</td>\n",
       "      <td>91754.0</td>\n",
       "      <td>5651</td>\n",
       "      <td>NaN</td>\n",
       "    </tr>\n",
       "    <tr>\n",
       "      <th>1</th>\n",
       "      <td>0</td>\n",
       "      <td>0</td>\n",
       "      <td>2002</td>\n",
       "      <td>9</td>\n",
       "      <td>8</td>\n",
       "      <td>13:48</td>\n",
       "      <td>$76.57</td>\n",
       "      <td>Swipe Transaction</td>\n",
       "      <td>-727612092139916043</td>\n",
       "      <td>Monterey Park</td>\n",
       "      <td>CA</td>\n",
       "      <td>91754.0</td>\n",
       "      <td>5411</td>\n",
       "      <td>NaN</td>\n",
       "    </tr>\n",
       "    <tr>\n",
       "      <th>2</th>\n",
       "      <td>0</td>\n",
       "      <td>0</td>\n",
       "      <td>2002</td>\n",
       "      <td>9</td>\n",
       "      <td>10</td>\n",
       "      <td>06:22</td>\n",
       "      <td>$102.18</td>\n",
       "      <td>Swipe Transaction</td>\n",
       "      <td>3527213246127876953</td>\n",
       "      <td>La Verne</td>\n",
       "      <td>CA</td>\n",
       "      <td>91750.0</td>\n",
       "      <td>5300</td>\n",
       "      <td>NaN</td>\n",
       "    </tr>\n",
       "    <tr>\n",
       "      <th>3</th>\n",
       "      <td>0</td>\n",
       "      <td>0</td>\n",
       "      <td>2002</td>\n",
       "      <td>9</td>\n",
       "      <td>12</td>\n",
       "      <td>06:21</td>\n",
       "      <td>$122.10</td>\n",
       "      <td>Swipe Transaction</td>\n",
       "      <td>4060646732831064559</td>\n",
       "      <td>La Verne</td>\n",
       "      <td>CA</td>\n",
       "      <td>91750.0</td>\n",
       "      <td>5411</td>\n",
       "      <td>Insufficient Balance</td>\n",
       "    </tr>\n",
       "    <tr>\n",
       "      <th>4</th>\n",
       "      <td>0</td>\n",
       "      <td>0</td>\n",
       "      <td>2002</td>\n",
       "      <td>9</td>\n",
       "      <td>23</td>\n",
       "      <td>06:46</td>\n",
       "      <td>$35.28</td>\n",
       "      <td>Swipe Transaction</td>\n",
       "      <td>-34551508091458520</td>\n",
       "      <td>La Verne</td>\n",
       "      <td>CA</td>\n",
       "      <td>91750.0</td>\n",
       "      <td>5912</td>\n",
       "      <td>NaN</td>\n",
       "    </tr>\n",
       "  </tbody>\n",
       "</table>\n",
       "</div>"
      ],
      "text/plain": [
       "   User  Card  Year  Month  Day   Time   Amount           Use Chip  \\\n",
       "0     0     0  2002      9    2  17:45  $128.95  Swipe Transaction   \n",
       "1     0     0  2002      9    8  13:48   $76.57  Swipe Transaction   \n",
       "2     0     0  2002      9   10  06:22  $102.18  Swipe Transaction   \n",
       "3     0     0  2002      9   12  06:21  $122.10  Swipe Transaction   \n",
       "4     0     0  2002      9   23  06:46   $35.28  Swipe Transaction   \n",
       "\n",
       "         Merchant Name  Merchant City Merchant State      Zip   MCC  \\\n",
       "0  3414527459579106770  Monterey Park             CA  91754.0  5651   \n",
       "1  -727612092139916043  Monterey Park             CA  91754.0  5411   \n",
       "2  3527213246127876953       La Verne             CA  91750.0  5300   \n",
       "3  4060646732831064559       La Verne             CA  91750.0  5411   \n",
       "4   -34551508091458520       La Verne             CA  91750.0  5912   \n",
       "\n",
       "                Errors?  \n",
       "0                   NaN  \n",
       "1                   NaN  \n",
       "2                   NaN  \n",
       "3  Insufficient Balance  \n",
       "4                   NaN  "
      ]
     },
     "execution_count": 4,
     "metadata": {},
     "output_type": "execute_result"
    }
   ],
   "source": [
    "cred_trans = pd.read_csv('data/ibm_card_data_unlabelled.csv')\n",
    "cred_trans.head()"
   ]
  },
  {
   "cell_type": "code",
   "execution_count": 5,
   "metadata": {
    "collapsed": false,
    "pycharm": {
     "name": "#%%\n"
    }
   },
   "outputs": [
    {
     "data": {
      "text/plain": [
       "(2435415, 14)"
      ]
     },
     "execution_count": 5,
     "metadata": {},
     "output_type": "execute_result"
    }
   ],
   "source": [
    "cred_trans.shape\n",
    "## Dataset has 2,435,415 rows and 14 columns"
   ]
  },
  {
   "cell_type": "markdown",
   "metadata": {
    "pycharm": {
     "name": "#%% md\n"
    }
   },
   "source": [
    "## Cleaning"
   ]
  },
  {
   "cell_type": "code",
   "execution_count": 6,
   "metadata": {
    "collapsed": false,
    "pycharm": {
     "name": "#%%\n"
    }
   },
   "outputs": [
    {
     "data": {
      "text/plain": [
       "Index(['User', 'Card', 'Year', 'Month', 'Day', 'Time', 'Amount', 'Use_Chip',\n",
       "       'Merchant_Name', 'Merchant_City', 'Merchant_State', 'Zip', 'MCC',\n",
       "       'Errors'],\n",
       "      dtype='object')"
      ]
     },
     "execution_count": 6,
     "metadata": {},
     "output_type": "execute_result"
    }
   ],
   "source": [
    "## Let's remove the white space in the columns and replace them with underscore\n",
    "cred_trans.columns = [x.replace(\" \", \"_\").replace(\"?\", \"\") for x in cred_trans.columns]\n",
    "cred_trans.columns"
   ]
  },
  {
   "cell_type": "markdown",
   "metadata": {
    "pycharm": {
     "name": "#%% md\n"
    }
   },
   "source": [
    "###  Check Nulls"
   ]
  },
  {
   "cell_type": "code",
   "execution_count": 7,
   "metadata": {
    "collapsed": false,
    "pycharm": {
     "name": "#%%\n"
    }
   },
   "outputs": [
    {
     "data": {
      "text/plain": [
       "['Merchant_State', 'Zip', 'Errors']"
      ]
     },
     "execution_count": 7,
     "metadata": {},
     "output_type": "execute_result"
    }
   ],
   "source": [
    "## Iterating through columns to find out which columns contain nulls via list comprehension\n",
    "[features for features in cred_trans.columns if cred_trans[features].isnull().sum()>0]\n",
    "## Three columns have nulls"
   ]
  },
  {
   "cell_type": "code",
   "execution_count": 8,
   "metadata": {
    "collapsed": false,
    "pycharm": {
     "name": "#%%\n"
    }
   },
   "outputs": [
    {
     "data": {
      "text/plain": [
       "User                    0\n",
       "Card                    0\n",
       "Year                    0\n",
       "Month                   0\n",
       "Day                     0\n",
       "Time                    0\n",
       "Amount                  0\n",
       "Use_Chip                0\n",
       "Merchant_Name           0\n",
       "Merchant_City           0\n",
       "Merchant_State     271897\n",
       "Zip                287575\n",
       "MCC                     0\n",
       "Errors            2396823\n",
       "dtype: int64"
      ]
     },
     "execution_count": 8,
     "metadata": {},
     "output_type": "execute_result"
    }
   ],
   "source": [
    "## Let's see how many nulls there are in the respective columns\n",
    "cred_trans.isnull().sum()\n",
    "## We also have missing values in Errors which essentially means that there were no errors."
   ]
  },
  {
   "cell_type": "code",
   "execution_count": 9,
   "metadata": {
    "collapsed": false,
    "pycharm": {
     "name": "#%%\n"
    }
   },
   "outputs": [
    {
     "name": "stdout",
     "output_type": "stream",
     "text": [
      "<class 'pandas.core.frame.DataFrame'>\n",
      "RangeIndex: 2435415 entries, 0 to 2435414\n",
      "Data columns (total 14 columns):\n",
      " #   Column          Dtype  \n",
      "---  ------          -----  \n",
      " 0   User            int64  \n",
      " 1   Card            int64  \n",
      " 2   Year            int64  \n",
      " 3   Month           int64  \n",
      " 4   Day             int64  \n",
      " 5   Time            object \n",
      " 6   Amount          object \n",
      " 7   Use_Chip        object \n",
      " 8   Merchant_Name   int64  \n",
      " 9   Merchant_City   object \n",
      " 10  Merchant_State  object \n",
      " 11  Zip             float64\n",
      " 12  MCC             int64  \n",
      " 13  Errors          object \n",
      "dtypes: float64(1), int64(7), object(6)\n",
      "memory usage: 260.1+ MB\n"
     ]
    }
   ],
   "source": [
    "## Let's see the datatypes of each column\n",
    "cred_trans.info()\n",
    "## Amount will need to be changed to float to be able to make any observations with this."
   ]
  },
  {
   "cell_type": "code",
   "execution_count": 10,
   "metadata": {
    "collapsed": false,
    "pycharm": {
     "name": "#%%\n"
    }
   },
   "outputs": [
    {
     "data": {
      "text/html": [
       "<div>\n",
       "<style scoped>\n",
       "    .dataframe tbody tr th:only-of-type {\n",
       "        vertical-align: middle;\n",
       "    }\n",
       "\n",
       "    .dataframe tbody tr th {\n",
       "        vertical-align: top;\n",
       "    }\n",
       "\n",
       "    .dataframe thead th {\n",
       "        text-align: right;\n",
       "    }\n",
       "</style>\n",
       "<table border=\"1\" class=\"dataframe\">\n",
       "  <thead>\n",
       "    <tr style=\"text-align: right;\">\n",
       "      <th></th>\n",
       "      <th>User</th>\n",
       "      <th>Card</th>\n",
       "      <th>Year</th>\n",
       "      <th>Month</th>\n",
       "      <th>Day</th>\n",
       "      <th>Merchant_Name</th>\n",
       "      <th>Zip</th>\n",
       "      <th>MCC</th>\n",
       "    </tr>\n",
       "  </thead>\n",
       "  <tbody>\n",
       "    <tr>\n",
       "      <th>count</th>\n",
       "      <td>2.435415e+06</td>\n",
       "      <td>2.435415e+06</td>\n",
       "      <td>2.435415e+06</td>\n",
       "      <td>2.435415e+06</td>\n",
       "      <td>2.435415e+06</td>\n",
       "      <td>2.435415e+06</td>\n",
       "      <td>2.147840e+06</td>\n",
       "      <td>2.435415e+06</td>\n",
       "    </tr>\n",
       "    <tr>\n",
       "      <th>mean</th>\n",
       "      <td>1.001357e+03</td>\n",
       "      <td>1.351327e+00</td>\n",
       "      <td>2.011955e+03</td>\n",
       "      <td>6.526058e+00</td>\n",
       "      <td>1.571609e+01</td>\n",
       "      <td>-4.793011e+17</td>\n",
       "      <td>5.094908e+04</td>\n",
       "      <td>5.560106e+03</td>\n",
       "    </tr>\n",
       "    <tr>\n",
       "      <th>std</th>\n",
       "      <td>5.694199e+02</td>\n",
       "      <td>1.406723e+00</td>\n",
       "      <td>5.106470e+00</td>\n",
       "      <td>3.472406e+00</td>\n",
       "      <td>8.794665e+00</td>\n",
       "      <td>4.762531e+18</td>\n",
       "      <td>2.939525e+04</td>\n",
       "      <td>8.787887e+02</td>\n",
       "    </tr>\n",
       "    <tr>\n",
       "      <th>min</th>\n",
       "      <td>0.000000e+00</td>\n",
       "      <td>0.000000e+00</td>\n",
       "      <td>1.991000e+03</td>\n",
       "      <td>1.000000e+00</td>\n",
       "      <td>1.000000e+00</td>\n",
       "      <td>-9.222899e+18</td>\n",
       "      <td>5.010000e+02</td>\n",
       "      <td>1.711000e+03</td>\n",
       "    </tr>\n",
       "    <tr>\n",
       "      <th>25%</th>\n",
       "      <td>5.110000e+02</td>\n",
       "      <td>0.000000e+00</td>\n",
       "      <td>2.008000e+03</td>\n",
       "      <td>3.000000e+00</td>\n",
       "      <td>8.000000e+00</td>\n",
       "      <td>-4.509350e+18</td>\n",
       "      <td>2.836600e+04</td>\n",
       "      <td>5.300000e+03</td>\n",
       "    </tr>\n",
       "    <tr>\n",
       "      <th>50%</th>\n",
       "      <td>1.006000e+03</td>\n",
       "      <td>1.000000e+00</td>\n",
       "      <td>2.013000e+03</td>\n",
       "      <td>7.000000e+00</td>\n",
       "      <td>1.600000e+01</td>\n",
       "      <td>-7.948098e+17</td>\n",
       "      <td>4.674200e+04</td>\n",
       "      <td>5.499000e+03</td>\n",
       "    </tr>\n",
       "    <tr>\n",
       "      <th>75%</th>\n",
       "      <td>1.477000e+03</td>\n",
       "      <td>2.000000e+00</td>\n",
       "      <td>2.016000e+03</td>\n",
       "      <td>1.000000e+01</td>\n",
       "      <td>2.300000e+01</td>\n",
       "      <td>3.189517e+18</td>\n",
       "      <td>7.756600e+04</td>\n",
       "      <td>5.812000e+03</td>\n",
       "    </tr>\n",
       "    <tr>\n",
       "      <th>max</th>\n",
       "      <td>1.999000e+03</td>\n",
       "      <td>8.000000e+00</td>\n",
       "      <td>2.020000e+03</td>\n",
       "      <td>1.200000e+01</td>\n",
       "      <td>3.100000e+01</td>\n",
       "      <td>9.222877e+18</td>\n",
       "      <td>9.992800e+04</td>\n",
       "      <td>9.402000e+03</td>\n",
       "    </tr>\n",
       "  </tbody>\n",
       "</table>\n",
       "</div>"
      ],
      "text/plain": [
       "               User          Card          Year         Month           Day  \\\n",
       "count  2.435415e+06  2.435415e+06  2.435415e+06  2.435415e+06  2.435415e+06   \n",
       "mean   1.001357e+03  1.351327e+00  2.011955e+03  6.526058e+00  1.571609e+01   \n",
       "std    5.694199e+02  1.406723e+00  5.106470e+00  3.472406e+00  8.794665e+00   \n",
       "min    0.000000e+00  0.000000e+00  1.991000e+03  1.000000e+00  1.000000e+00   \n",
       "25%    5.110000e+02  0.000000e+00  2.008000e+03  3.000000e+00  8.000000e+00   \n",
       "50%    1.006000e+03  1.000000e+00  2.013000e+03  7.000000e+00  1.600000e+01   \n",
       "75%    1.477000e+03  2.000000e+00  2.016000e+03  1.000000e+01  2.300000e+01   \n",
       "max    1.999000e+03  8.000000e+00  2.020000e+03  1.200000e+01  3.100000e+01   \n",
       "\n",
       "       Merchant_Name           Zip           MCC  \n",
       "count   2.435415e+06  2.147840e+06  2.435415e+06  \n",
       "mean   -4.793011e+17  5.094908e+04  5.560106e+03  \n",
       "std     4.762531e+18  2.939525e+04  8.787887e+02  \n",
       "min    -9.222899e+18  5.010000e+02  1.711000e+03  \n",
       "25%    -4.509350e+18  2.836600e+04  5.300000e+03  \n",
       "50%    -7.948098e+17  4.674200e+04  5.499000e+03  \n",
       "75%     3.189517e+18  7.756600e+04  5.812000e+03  \n",
       "max     9.222877e+18  9.992800e+04  9.402000e+03  "
      ]
     },
     "execution_count": 10,
     "metadata": {},
     "output_type": "execute_result"
    }
   ],
   "source": [
    "cred_trans.describe()"
   ]
  },
  {
   "cell_type": "code",
   "execution_count": 11,
   "metadata": {
    "collapsed": false,
    "pycharm": {
     "name": "#%%\n"
    }
   },
   "outputs": [
    {
     "data": {
      "text/plain": [
       "1991"
      ]
     },
     "execution_count": 11,
     "metadata": {},
     "output_type": "execute_result"
    }
   ],
   "source": [
    "cred_trans.Year.sort_values().min()"
   ]
  },
  {
   "cell_type": "code",
   "execution_count": 12,
   "metadata": {
    "collapsed": false,
    "pycharm": {
     "name": "#%%\n"
    }
   },
   "outputs": [
    {
     "data": {
      "text/plain": [
       "2020"
      ]
     },
     "execution_count": 12,
     "metadata": {},
     "output_type": "execute_result"
    }
   ],
   "source": [
    "cred_trans.Year.sort_values().max()"
   ]
  },
  {
   "cell_type": "markdown",
   "metadata": {
    "collapsed": false,
    "pycharm": {
     "name": "#%% md\n"
    }
   },
   "source": [
    "> Dataset ranges from 1991-2020"
   ]
  },
  {
   "cell_type": "code",
   "execution_count": 13,
   "metadata": {
    "collapsed": false,
    "pycharm": {
     "name": "#%%\n"
    }
   },
   "outputs": [
    {
     "data": {
      "text/plain": [
       "array([nan, 'Insufficient Balance', 'Bad PIN', 'Technical Glitch',\n",
       "       'Bad Expiration', 'Bad CVV', 'Bad Card Number',\n",
       "       'Bad PIN,Insufficient Balance',\n",
       "       'Bad Card Number,Bad Expiration,Technical Glitch', 'Bad Zipcode',\n",
       "       'Insufficient Balance,Technical Glitch',\n",
       "       'Bad Card Number,Bad Expiration', 'Bad Expiration,Bad CVV',\n",
       "       'Bad Card Number,Insufficient Balance', 'Bad CVV,Technical Glitch',\n",
       "       'Bad CVV,Insufficient Balance', 'Bad PIN,Technical Glitch',\n",
       "       'Bad Card Number,Bad CVV', 'Bad Expiration,Technical Glitch',\n",
       "       'Bad Zipcode,Insufficient Balance', 'Bad Zipcode,Technical Glitch',\n",
       "       'Bad Expiration,Insufficient Balance',\n",
       "       'Bad Card Number,Bad Expiration,Insufficient Balance'],\n",
       "      dtype=object)"
      ]
     },
     "execution_count": 13,
     "metadata": {},
     "output_type": "execute_result"
    }
   ],
   "source": [
    "## Let's see how many different type of errors there are.\n",
    "cred_trans['Errors'].unique()\n",
    "## There are 22 different types of errors (excluding the NaNs)"
   ]
  },
  {
   "cell_type": "code",
   "execution_count": 14,
   "metadata": {
    "collapsed": false,
    "pycharm": {
     "name": "#%%\n"
    }
   },
   "outputs": [
    {
     "data": {
      "text/plain": [
       "396     8214\n",
       "486     8123\n",
       "332     7072\n",
       "262     6751\n",
       "1249    6620\n",
       "        ... \n",
       "1454       2\n",
       "457        2\n",
       "1817       1\n",
       "1793       1\n",
       "221        1\n",
       "Name: User, Length: 2000, dtype: int64"
      ]
     },
     "execution_count": 14,
     "metadata": {},
     "output_type": "execute_result"
    }
   ],
   "source": [
    "cred_trans.User.value_counts()\n",
    "## There are 2,000 users in this dataset. We can also see the amount of transactions each user has made."
   ]
  },
  {
   "cell_type": "code",
   "execution_count": 15,
   "metadata": {
    "collapsed": false,
    "pycharm": {
     "name": "#%%\n"
    }
   },
   "outputs": [
    {
     "data": {
      "text/plain": [
       "array([0, 1, 2, 3, 4, 5, 6, 7, 8], dtype=int64)"
      ]
     },
     "execution_count": 15,
     "metadata": {},
     "output_type": "execute_result"
    }
   ],
   "source": [
    "cred_trans.Card.unique()\n",
    "## There are 9 different types of cards being used"
   ]
  },
  {
   "cell_type": "code",
   "execution_count": 16,
   "metadata": {
    "collapsed": false,
    "pycharm": {
     "name": "#%%\n"
    }
   },
   "outputs": [
    {
     "data": {
      "text/plain": [
       "array(['Swipe Transaction', 'Online Transaction', 'Chip Transaction'],\n",
       "      dtype=object)"
      ]
     },
     "execution_count": 16,
     "metadata": {},
     "output_type": "execute_result"
    }
   ],
   "source": [
    "cred_trans.Use_Chip.unique()\n",
    "\n",
    "## There are 3 different types of transactions being done: 1) Swipe 2) Online 3) Chip\n",
    "## We could probably map these numerically"
   ]
  },
  {
   "cell_type": "code",
   "execution_count": 17,
   "metadata": {
    "collapsed": false,
    "pycharm": {
     "name": "#%%\n"
    }
   },
   "outputs": [
    {
     "data": {
      "text/html": [
       "<div>\n",
       "<style scoped>\n",
       "    .dataframe tbody tr th:only-of-type {\n",
       "        vertical-align: middle;\n",
       "    }\n",
       "\n",
       "    .dataframe tbody tr th {\n",
       "        vertical-align: top;\n",
       "    }\n",
       "\n",
       "    .dataframe thead th {\n",
       "        text-align: right;\n",
       "    }\n",
       "</style>\n",
       "<table border=\"1\" class=\"dataframe\">\n",
       "  <thead>\n",
       "    <tr style=\"text-align: right;\">\n",
       "      <th></th>\n",
       "      <th>Errors</th>\n",
       "    </tr>\n",
       "    <tr>\n",
       "      <th>Year</th>\n",
       "      <th></th>\n",
       "    </tr>\n",
       "  </thead>\n",
       "  <tbody>\n",
       "    <tr>\n",
       "      <th>1991</th>\n",
       "      <td>3</td>\n",
       "    </tr>\n",
       "    <tr>\n",
       "      <th>1992</th>\n",
       "      <td>2</td>\n",
       "    </tr>\n",
       "    <tr>\n",
       "      <th>1993</th>\n",
       "      <td>17</td>\n",
       "    </tr>\n",
       "    <tr>\n",
       "      <th>1994</th>\n",
       "      <td>30</td>\n",
       "    </tr>\n",
       "    <tr>\n",
       "      <th>1995</th>\n",
       "      <td>30</td>\n",
       "    </tr>\n",
       "    <tr>\n",
       "      <th>1996</th>\n",
       "      <td>46</td>\n",
       "    </tr>\n",
       "    <tr>\n",
       "      <th>1997</th>\n",
       "      <td>85</td>\n",
       "    </tr>\n",
       "    <tr>\n",
       "      <th>1998</th>\n",
       "      <td>127</td>\n",
       "    </tr>\n",
       "    <tr>\n",
       "      <th>1999</th>\n",
       "      <td>208</td>\n",
       "    </tr>\n",
       "    <tr>\n",
       "      <th>2000</th>\n",
       "      <td>270</td>\n",
       "    </tr>\n",
       "    <tr>\n",
       "      <th>2001</th>\n",
       "      <td>417</td>\n",
       "    </tr>\n",
       "    <tr>\n",
       "      <th>2002</th>\n",
       "      <td>554</td>\n",
       "    </tr>\n",
       "    <tr>\n",
       "      <th>2003</th>\n",
       "      <td>788</td>\n",
       "    </tr>\n",
       "    <tr>\n",
       "      <th>2004</th>\n",
       "      <td>964</td>\n",
       "    </tr>\n",
       "    <tr>\n",
       "      <th>2005</th>\n",
       "      <td>1210</td>\n",
       "    </tr>\n",
       "    <tr>\n",
       "      <th>2006</th>\n",
       "      <td>1463</td>\n",
       "    </tr>\n",
       "    <tr>\n",
       "      <th>2007</th>\n",
       "      <td>1598</td>\n",
       "    </tr>\n",
       "    <tr>\n",
       "      <th>2008</th>\n",
       "      <td>1909</td>\n",
       "    </tr>\n",
       "    <tr>\n",
       "      <th>2009</th>\n",
       "      <td>2187</td>\n",
       "    </tr>\n",
       "    <tr>\n",
       "      <th>2010</th>\n",
       "      <td>2348</td>\n",
       "    </tr>\n",
       "    <tr>\n",
       "      <th>2011</th>\n",
       "      <td>2442</td>\n",
       "    </tr>\n",
       "    <tr>\n",
       "      <th>2012</th>\n",
       "      <td>2566</td>\n",
       "    </tr>\n",
       "    <tr>\n",
       "      <th>2013</th>\n",
       "      <td>2699</td>\n",
       "    </tr>\n",
       "    <tr>\n",
       "      <th>2014</th>\n",
       "      <td>2614</td>\n",
       "    </tr>\n",
       "    <tr>\n",
       "      <th>2015</th>\n",
       "      <td>2663</td>\n",
       "    </tr>\n",
       "    <tr>\n",
       "      <th>2016</th>\n",
       "      <td>2659</td>\n",
       "    </tr>\n",
       "    <tr>\n",
       "      <th>2017</th>\n",
       "      <td>2737</td>\n",
       "    </tr>\n",
       "    <tr>\n",
       "      <th>2018</th>\n",
       "      <td>2726</td>\n",
       "    </tr>\n",
       "    <tr>\n",
       "      <th>2019</th>\n",
       "      <td>2732</td>\n",
       "    </tr>\n",
       "    <tr>\n",
       "      <th>2020</th>\n",
       "      <td>498</td>\n",
       "    </tr>\n",
       "  </tbody>\n",
       "</table>\n",
       "</div>"
      ],
      "text/plain": [
       "      Errors\n",
       "Year        \n",
       "1991       3\n",
       "1992       2\n",
       "1993      17\n",
       "1994      30\n",
       "1995      30\n",
       "1996      46\n",
       "1997      85\n",
       "1998     127\n",
       "1999     208\n",
       "2000     270\n",
       "2001     417\n",
       "2002     554\n",
       "2003     788\n",
       "2004     964\n",
       "2005    1210\n",
       "2006    1463\n",
       "2007    1598\n",
       "2008    1909\n",
       "2009    2187\n",
       "2010    2348\n",
       "2011    2442\n",
       "2012    2566\n",
       "2013    2699\n",
       "2014    2614\n",
       "2015    2663\n",
       "2016    2659\n",
       "2017    2737\n",
       "2018    2726\n",
       "2019    2732\n",
       "2020     498"
      ]
     },
     "execution_count": 17,
     "metadata": {},
     "output_type": "execute_result"
    }
   ],
   "source": [
    "errs_by_year = cred_trans.groupby('Year')[['Errors']].count().sort_values('Year', ascending = True)\n",
    "errs_by_year\n",
    "## Less errors were made in the early 90's\n",
    "## We can split data into 2 categories based on number of errors classifications:\n",
    "## 1991-2004 < 1000 errors; 2005-2020 < 2000 errors (exception of 498 errors in 2020)\n",
    "## Errors reached the 1000's from 2005 onwards"
   ]
  },
  {
   "cell_type": "code",
   "execution_count": 18,
   "metadata": {
    "collapsed": false,
    "pycharm": {
     "name": "#%%\n"
    }
   },
   "outputs": [
    {
     "data": {
      "text/plain": [
       "Insufficient Balance                                   24187\n",
       "Bad PIN                                                 5901\n",
       "Technical Glitch                                        4794\n",
       "Bad Card Number                                         1272\n",
       "Bad Expiration                                          1031\n",
       "Bad CVV                                                 1024\n",
       "Bad Zipcode                                              211\n",
       "Bad PIN,Insufficient Balance                              53\n",
       "Insufficient Balance,Technical Glitch                     48\n",
       "Bad Card Number,Insufficient Balance                      16\n",
       "Bad PIN,Technical Glitch                                  11\n",
       "Bad CVV,Insufficient Balance                              10\n",
       "Bad Card Number,Bad CVV                                    7\n",
       "Bad Expiration,Insufficient Balance                        5\n",
       "Bad Expiration,Bad CVV                                     5\n",
       "Bad Card Number,Bad Expiration                             5\n",
       "Bad CVV,Technical Glitch                                   4\n",
       "Bad Zipcode,Insufficient Balance                           3\n",
       "Bad Expiration,Technical Glitch                            2\n",
       "Bad Zipcode,Technical Glitch                               1\n",
       "Bad Card Number,Bad Expiration,Technical Glitch            1\n",
       "Bad Card Number,Bad Expiration,Insufficient Balance        1\n",
       "Name: Errors, dtype: int64"
      ]
     },
     "execution_count": 18,
     "metadata": {},
     "output_type": "execute_result"
    }
   ],
   "source": [
    "cred_trans['Errors'].value_counts()\n",
    "## Most of the errors are due to insufficient balance"
   ]
  },
  {
   "cell_type": "code",
   "execution_count": 19,
   "metadata": {
    "collapsed": false,
    "pycharm": {
     "name": "#%%\n"
    }
   },
   "outputs": [
    {
     "data": {
      "text/plain": [
       "38592"
      ]
     },
     "execution_count": 19,
     "metadata": {},
     "output_type": "execute_result"
    }
   ],
   "source": [
    "cred_trans['Errors'].notnull().sum().sum()\n",
    "## There are 38592 errors within the dataframe"
   ]
  },
  {
   "cell_type": "code",
   "execution_count": 20,
   "metadata": {
    "collapsed": false,
    "pycharm": {
     "name": "#%%\n"
    }
   },
   "outputs": [
    {
     "data": {
      "text/plain": [
       "Year  Errors                        Use_Chip          \n",
       "1991  Technical Glitch              Swipe Transaction     1\n",
       "      Insufficient Balance          Swipe Transaction     1\n",
       "      Bad Zipcode                   Swipe Transaction     1\n",
       "1992  Insufficient Balance          Swipe Transaction     2\n",
       "1993  Insufficient Balance          Swipe Transaction     9\n",
       "                                                         ..\n",
       "2020  Technical Glitch              Online Transaction    6\n",
       "      Bad PIN,Insufficient Balance  Chip Transaction      4\n",
       "      Bad Zipcode                   Swipe Transaction     1\n",
       "                                    Chip Transaction      1\n",
       "      Bad PIN,Technical Glitch      Chip Transaction      1\n",
       "Length: 357, dtype: int64"
      ]
     },
     "execution_count": 20,
     "metadata": {},
     "output_type": "execute_result"
    }
   ],
   "source": [
    "cred_trans.groupby('Year')[['Errors', 'Use_Chip']].value_counts()\n",
    "## Errors based on year and their type of transaction"
   ]
  },
  {
   "cell_type": "code",
   "execution_count": 21,
   "metadata": {
    "collapsed": false,
    "pycharm": {
     "name": "#%%\n"
    }
   },
   "outputs": [
    {
     "data": {
      "text/plain": [
       "Use_Chip            Errors                                             \n",
       "Chip Transaction    Insufficient Balance                                    6260\n",
       "                    Bad PIN                                                 1720\n",
       "                    Technical Glitch                                        1230\n",
       "                    Bad Zipcode                                               52\n",
       "                    Bad PIN,Insufficient Balance                              15\n",
       "                    Insufficient Balance,Technical Glitch                      8\n",
       "                    Bad PIN,Technical Glitch                                   7\n",
       "                    Bad Zipcode,Insufficient Balance                           2\n",
       "                    Bad Zipcode,Technical Glitch                               1\n",
       "Online Transaction  Insufficient Balance                                    2033\n",
       "                    Bad Card Number                                         1272\n",
       "                    Bad Expiration                                          1031\n",
       "                    Bad CVV                                                 1023\n",
       "                    Technical Glitch                                         570\n",
       "                    Bad Card Number,Insufficient Balance                      16\n",
       "                    Bad CVV,Insufficient Balance                              10\n",
       "                    Bad Card Number,Bad CVV                                    7\n",
       "                    Bad Expiration,Insufficient Balance                        5\n",
       "                    Bad Expiration,Bad CVV                                     5\n",
       "                    Bad Card Number,Bad Expiration                             5\n",
       "                    Insufficient Balance,Technical Glitch                      4\n",
       "                    Bad CVV,Technical Glitch                                   4\n",
       "                    Bad Expiration,Technical Glitch                            2\n",
       "                    Bad Card Number,Bad Expiration,Technical Glitch            1\n",
       "                    Bad Card Number,Bad Expiration,Insufficient Balance        1\n",
       "Swipe Transaction   Insufficient Balance                                   15894\n",
       "                    Bad PIN                                                 4181\n",
       "                    Technical Glitch                                        2994\n",
       "                    Bad Zipcode                                              159\n",
       "                    Bad PIN,Insufficient Balance                              38\n",
       "                    Insufficient Balance,Technical Glitch                     36\n",
       "                    Bad PIN,Technical Glitch                                   4\n",
       "                    Bad CVV                                                    1\n",
       "                    Bad Zipcode,Insufficient Balance                           1\n",
       "dtype: int64"
      ]
     },
     "execution_count": 21,
     "metadata": {},
     "output_type": "execute_result"
    }
   ],
   "source": [
    "cred_trans.groupby('Use_Chip')[['Errors']].value_counts()\n",
    "## Errors based on type of transactions. We see that most of the errors come from chip transaction"
   ]
  },
  {
   "cell_type": "markdown",
   "metadata": {
    "collapsed": false,
    "pycharm": {
     "name": "#%% md\n"
    }
   },
   "source": [
    "## FEATURE ENGINEERING\n",
    "> ### Filling missing values using fillna\n",
    "> ### Changing the Name of the 'Amount' column\n",
    "> ### Creating bins for certain columns\n",
    "> ### Changing the Time column to a 24hr format"
   ]
  },
  {
   "cell_type": "code",
   "execution_count": 22,
   "metadata": {
    "collapsed": false,
    "pycharm": {
     "name": "#%%\n"
    }
   },
   "outputs": [],
   "source": [
    "def feature_eng(df):\n",
    "    \"\"\" Function to fill nulls and label encode the following columns: 'Errors', 'Use_Chip', 'Merchant_City', 'Merchant_State' \"\"\"\n",
    "    cols_to_encode = ['Errors', 'Use_Chip', 'Merchant_City', 'Merchant_State']\n",
    "    trans = df.copy()\n",
    "    labelencoder = LabelEncoder()\n",
    "\n",
    "    # label encoding categrical column values\n",
    "    for col in cols_to_encode:\n",
    "        trans[col].fillna(\"0\", inplace = True)\n",
    "        trans[col + '_Encoded'] = labelencoder.fit_transform(trans[col]) ## Label encoding all stated columns so that later our algorithm can understand the numerical data\n",
    "\n",
    "    ## Removing the Dollar sign from the Amount column in order to change object to float.\n",
    "    trans['Amount'] = trans['Amount'].replace({'\\$' : ''}, regex=True).astype(float)\n",
    "\n",
    "    trans.drop(cols_to_encode, axis=1, inplace=True) ## Dropping the original columns, since we have now created new encoded columns\n",
    "\n",
    "    trans['Zip'].fillna(0, inplace = True) ## Filling all null values in the zip column with 0\n",
    "    trans['Time'] = trans['Time'].str[:2].astype('int')\n",
    "    trans['Suspected_Fraud'] = np.where(trans['Errors_Encoded']!= 0, 1, 0) ## Classifying suspected fraud with a 1 (i.e. the rows which have erroneous transactions, otherwise a 0.\n",
    "\n",
    "    return trans\n",
    "\n",
    "cred_trans = feature_eng(cred_trans)"
   ]
  },
  {
   "cell_type": "code",
   "execution_count": 23,
   "metadata": {
    "collapsed": false,
    "pycharm": {
     "name": "#%%\n"
    }
   },
   "outputs": [
    {
     "data": {
      "text/html": [
       "<div>\n",
       "<style scoped>\n",
       "    .dataframe tbody tr th:only-of-type {\n",
       "        vertical-align: middle;\n",
       "    }\n",
       "\n",
       "    .dataframe tbody tr th {\n",
       "        vertical-align: top;\n",
       "    }\n",
       "\n",
       "    .dataframe thead th {\n",
       "        text-align: right;\n",
       "    }\n",
       "</style>\n",
       "<table border=\"1\" class=\"dataframe\">\n",
       "  <thead>\n",
       "    <tr style=\"text-align: right;\">\n",
       "      <th></th>\n",
       "      <th>User</th>\n",
       "      <th>Card</th>\n",
       "      <th>Year</th>\n",
       "      <th>Month</th>\n",
       "      <th>Day</th>\n",
       "      <th>Time</th>\n",
       "      <th>Amount</th>\n",
       "      <th>Merchant_Name</th>\n",
       "      <th>Zip</th>\n",
       "      <th>MCC</th>\n",
       "      <th>Errors_Encoded</th>\n",
       "      <th>Use_Chip_Encoded</th>\n",
       "      <th>Merchant_City_Encoded</th>\n",
       "      <th>Merchant_State_Encoded</th>\n",
       "      <th>Suspected_Fraud</th>\n",
       "    </tr>\n",
       "  </thead>\n",
       "  <tbody>\n",
       "    <tr>\n",
       "      <th>0</th>\n",
       "      <td>0</td>\n",
       "      <td>0</td>\n",
       "      <td>2002</td>\n",
       "      <td>9</td>\n",
       "      <td>2</td>\n",
       "      <td>17</td>\n",
       "      <td>128.95</td>\n",
       "      <td>3414527459579106770</td>\n",
       "      <td>91754.0</td>\n",
       "      <td>5651</td>\n",
       "      <td>0</td>\n",
       "      <td>2</td>\n",
       "      <td>6444</td>\n",
       "      <td>26</td>\n",
       "      <td>0</td>\n",
       "    </tr>\n",
       "    <tr>\n",
       "      <th>1</th>\n",
       "      <td>0</td>\n",
       "      <td>0</td>\n",
       "      <td>2002</td>\n",
       "      <td>9</td>\n",
       "      <td>8</td>\n",
       "      <td>13</td>\n",
       "      <td>76.57</td>\n",
       "      <td>-727612092139916043</td>\n",
       "      <td>91754.0</td>\n",
       "      <td>5411</td>\n",
       "      <td>0</td>\n",
       "      <td>2</td>\n",
       "      <td>6444</td>\n",
       "      <td>26</td>\n",
       "      <td>0</td>\n",
       "    </tr>\n",
       "    <tr>\n",
       "      <th>2</th>\n",
       "      <td>0</td>\n",
       "      <td>0</td>\n",
       "      <td>2002</td>\n",
       "      <td>9</td>\n",
       "      <td>10</td>\n",
       "      <td>6</td>\n",
       "      <td>102.18</td>\n",
       "      <td>3527213246127876953</td>\n",
       "      <td>91750.0</td>\n",
       "      <td>5300</td>\n",
       "      <td>0</td>\n",
       "      <td>2</td>\n",
       "      <td>5150</td>\n",
       "      <td>26</td>\n",
       "      <td>0</td>\n",
       "    </tr>\n",
       "    <tr>\n",
       "      <th>3</th>\n",
       "      <td>0</td>\n",
       "      <td>0</td>\n",
       "      <td>2002</td>\n",
       "      <td>9</td>\n",
       "      <td>12</td>\n",
       "      <td>6</td>\n",
       "      <td>122.10</td>\n",
       "      <td>4060646732831064559</td>\n",
       "      <td>91750.0</td>\n",
       "      <td>5411</td>\n",
       "      <td>20</td>\n",
       "      <td>2</td>\n",
       "      <td>5150</td>\n",
       "      <td>26</td>\n",
       "      <td>1</td>\n",
       "    </tr>\n",
       "    <tr>\n",
       "      <th>4</th>\n",
       "      <td>0</td>\n",
       "      <td>0</td>\n",
       "      <td>2002</td>\n",
       "      <td>9</td>\n",
       "      <td>23</td>\n",
       "      <td>6</td>\n",
       "      <td>35.28</td>\n",
       "      <td>-34551508091458520</td>\n",
       "      <td>91750.0</td>\n",
       "      <td>5912</td>\n",
       "      <td>0</td>\n",
       "      <td>2</td>\n",
       "      <td>5150</td>\n",
       "      <td>26</td>\n",
       "      <td>0</td>\n",
       "    </tr>\n",
       "    <tr>\n",
       "      <th>...</th>\n",
       "      <td>...</td>\n",
       "      <td>...</td>\n",
       "      <td>...</td>\n",
       "      <td>...</td>\n",
       "      <td>...</td>\n",
       "      <td>...</td>\n",
       "      <td>...</td>\n",
       "      <td>...</td>\n",
       "      <td>...</td>\n",
       "      <td>...</td>\n",
       "      <td>...</td>\n",
       "      <td>...</td>\n",
       "      <td>...</td>\n",
       "      <td>...</td>\n",
       "      <td>...</td>\n",
       "    </tr>\n",
       "    <tr>\n",
       "      <th>95</th>\n",
       "      <td>0</td>\n",
       "      <td>0</td>\n",
       "      <td>2005</td>\n",
       "      <td>3</td>\n",
       "      <td>27</td>\n",
       "      <td>20</td>\n",
       "      <td>69.66</td>\n",
       "      <td>2874505148349436413</td>\n",
       "      <td>78753.0</td>\n",
       "      <td>5812</td>\n",
       "      <td>0</td>\n",
       "      <td>2</td>\n",
       "      <td>403</td>\n",
       "      <td>178</td>\n",
       "      <td>0</td>\n",
       "    </tr>\n",
       "    <tr>\n",
       "      <th>96</th>\n",
       "      <td>0</td>\n",
       "      <td>0</td>\n",
       "      <td>2005</td>\n",
       "      <td>4</td>\n",
       "      <td>5</td>\n",
       "      <td>6</td>\n",
       "      <td>39.80</td>\n",
       "      <td>4060646732831064559</td>\n",
       "      <td>91750.0</td>\n",
       "      <td>5411</td>\n",
       "      <td>0</td>\n",
       "      <td>2</td>\n",
       "      <td>5150</td>\n",
       "      <td>26</td>\n",
       "      <td>0</td>\n",
       "    </tr>\n",
       "    <tr>\n",
       "      <th>97</th>\n",
       "      <td>0</td>\n",
       "      <td>0</td>\n",
       "      <td>2005</td>\n",
       "      <td>4</td>\n",
       "      <td>18</td>\n",
       "      <td>6</td>\n",
       "      <td>118.49</td>\n",
       "      <td>-34551508091458520</td>\n",
       "      <td>91750.0</td>\n",
       "      <td>5912</td>\n",
       "      <td>0</td>\n",
       "      <td>2</td>\n",
       "      <td>5150</td>\n",
       "      <td>26</td>\n",
       "      <td>0</td>\n",
       "    </tr>\n",
       "    <tr>\n",
       "      <th>98</th>\n",
       "      <td>0</td>\n",
       "      <td>0</td>\n",
       "      <td>2005</td>\n",
       "      <td>4</td>\n",
       "      <td>25</td>\n",
       "      <td>10</td>\n",
       "      <td>41.07</td>\n",
       "      <td>4055257078481058705</td>\n",
       "      <td>91750.0</td>\n",
       "      <td>7538</td>\n",
       "      <td>0</td>\n",
       "      <td>2</td>\n",
       "      <td>5150</td>\n",
       "      <td>26</td>\n",
       "      <td>0</td>\n",
       "    </tr>\n",
       "    <tr>\n",
       "      <th>99</th>\n",
       "      <td>0</td>\n",
       "      <td>0</td>\n",
       "      <td>2005</td>\n",
       "      <td>5</td>\n",
       "      <td>2</td>\n",
       "      <td>20</td>\n",
       "      <td>26.48</td>\n",
       "      <td>-3086825409791490122</td>\n",
       "      <td>84084.0</td>\n",
       "      <td>4900</td>\n",
       "      <td>0</td>\n",
       "      <td>2</td>\n",
       "      <td>10619</td>\n",
       "      <td>187</td>\n",
       "      <td>0</td>\n",
       "    </tr>\n",
       "  </tbody>\n",
       "</table>\n",
       "<p>100 rows × 15 columns</p>\n",
       "</div>"
      ],
      "text/plain": [
       "    User  Card  Year  Month  Day  Time  Amount        Merchant_Name      Zip  \\\n",
       "0      0     0  2002      9    2    17  128.95  3414527459579106770  91754.0   \n",
       "1      0     0  2002      9    8    13   76.57  -727612092139916043  91754.0   \n",
       "2      0     0  2002      9   10     6  102.18  3527213246127876953  91750.0   \n",
       "3      0     0  2002      9   12     6  122.10  4060646732831064559  91750.0   \n",
       "4      0     0  2002      9   23     6   35.28   -34551508091458520  91750.0   \n",
       "..   ...   ...   ...    ...  ...   ...     ...                  ...      ...   \n",
       "95     0     0  2005      3   27    20   69.66  2874505148349436413  78753.0   \n",
       "96     0     0  2005      4    5     6   39.80  4060646732831064559  91750.0   \n",
       "97     0     0  2005      4   18     6  118.49   -34551508091458520  91750.0   \n",
       "98     0     0  2005      4   25    10   41.07  4055257078481058705  91750.0   \n",
       "99     0     0  2005      5    2    20   26.48 -3086825409791490122  84084.0   \n",
       "\n",
       "     MCC  Errors_Encoded  Use_Chip_Encoded  Merchant_City_Encoded  \\\n",
       "0   5651               0                 2                   6444   \n",
       "1   5411               0                 2                   6444   \n",
       "2   5300               0                 2                   5150   \n",
       "3   5411              20                 2                   5150   \n",
       "4   5912               0                 2                   5150   \n",
       "..   ...             ...               ...                    ...   \n",
       "95  5812               0                 2                    403   \n",
       "96  5411               0                 2                   5150   \n",
       "97  5912               0                 2                   5150   \n",
       "98  7538               0                 2                   5150   \n",
       "99  4900               0                 2                  10619   \n",
       "\n",
       "    Merchant_State_Encoded  Suspected_Fraud  \n",
       "0                       26                0  \n",
       "1                       26                0  \n",
       "2                       26                0  \n",
       "3                       26                1  \n",
       "4                       26                0  \n",
       "..                     ...              ...  \n",
       "95                     178                0  \n",
       "96                      26                0  \n",
       "97                      26                0  \n",
       "98                      26                0  \n",
       "99                     187                0  \n",
       "\n",
       "[100 rows x 15 columns]"
      ]
     },
     "execution_count": 23,
     "metadata": {},
     "output_type": "execute_result"
    }
   ],
   "source": [
    "cred_trans.head(100)"
   ]
  },
  {
   "cell_type": "code",
   "execution_count": 24,
   "metadata": {
    "collapsed": false,
    "pycharm": {
     "name": "#%%\n"
    }
   },
   "outputs": [
    {
     "data": {
      "text/plain": [
       "User                      0\n",
       "Card                      0\n",
       "Year                      0\n",
       "Month                     0\n",
       "Day                       0\n",
       "Time                      0\n",
       "Amount                    0\n",
       "Merchant_Name             0\n",
       "Zip                       0\n",
       "MCC                       0\n",
       "Errors_Encoded            0\n",
       "Use_Chip_Encoded          0\n",
       "Merchant_City_Encoded     0\n",
       "Merchant_State_Encoded    0\n",
       "Suspected_Fraud           0\n",
       "dtype: int64"
      ]
     },
     "execution_count": 24,
     "metadata": {},
     "output_type": "execute_result"
    }
   ],
   "source": [
    "cred_trans.isnull().sum()"
   ]
  },
  {
   "cell_type": "code",
   "execution_count": 25,
   "metadata": {
    "collapsed": false,
    "pycharm": {
     "name": "#%%\n"
    }
   },
   "outputs": [
    {
     "data": {
      "text/plain": [
       "User                        int64\n",
       "Card                        int64\n",
       "Year                        int64\n",
       "Month                       int64\n",
       "Day                         int64\n",
       "Time                        int32\n",
       "Amount                    float64\n",
       "Merchant_Name               int64\n",
       "Zip                       float64\n",
       "MCC                         int64\n",
       "Errors_Encoded              int32\n",
       "Use_Chip_Encoded            int32\n",
       "Merchant_City_Encoded       int32\n",
       "Merchant_State_Encoded      int32\n",
       "Suspected_Fraud             int32\n",
       "dtype: object"
      ]
     },
     "execution_count": 25,
     "metadata": {},
     "output_type": "execute_result"
    }
   ],
   "source": [
    "cred_trans.dtypes"
   ]
  },
  {
   "cell_type": "markdown",
   "metadata": {
    "collapsed": false,
    "pycharm": {
     "name": "#%% md\n"
    }
   },
   "source": [
    "## Visualisation"
   ]
  },
  {
   "cell_type": "code",
   "execution_count": 26,
   "metadata": {
    "collapsed": false,
    "pycharm": {
     "name": "#%%\n"
    }
   },
   "outputs": [
    {
     "data": {
      "text/html": [
       "<div>\n",
       "<style scoped>\n",
       "    .dataframe tbody tr th:only-of-type {\n",
       "        vertical-align: middle;\n",
       "    }\n",
       "\n",
       "    .dataframe tbody tr th {\n",
       "        vertical-align: top;\n",
       "    }\n",
       "\n",
       "    .dataframe thead th {\n",
       "        text-align: right;\n",
       "    }\n",
       "</style>\n",
       "<table border=\"1\" class=\"dataframe\">\n",
       "  <thead>\n",
       "    <tr style=\"text-align: right;\">\n",
       "      <th></th>\n",
       "      <th>User</th>\n",
       "      <th>Card</th>\n",
       "      <th>Year</th>\n",
       "      <th>Month</th>\n",
       "      <th>Day</th>\n",
       "      <th>Time</th>\n",
       "      <th>Amount</th>\n",
       "      <th>Merchant_Name</th>\n",
       "      <th>Zip</th>\n",
       "      <th>MCC</th>\n",
       "      <th>Errors_Encoded</th>\n",
       "      <th>Use_Chip_Encoded</th>\n",
       "      <th>Merchant_City_Encoded</th>\n",
       "      <th>Merchant_State_Encoded</th>\n",
       "      <th>Suspected_Fraud</th>\n",
       "    </tr>\n",
       "  </thead>\n",
       "  <tbody>\n",
       "    <tr>\n",
       "      <th>User</th>\n",
       "      <td>1.000000</td>\n",
       "      <td>0.010463</td>\n",
       "      <td>0.001466</td>\n",
       "      <td>0.000677</td>\n",
       "      <td>0.001186</td>\n",
       "      <td>-0.010878</td>\n",
       "      <td>-0.011649</td>\n",
       "      <td>0.016337</td>\n",
       "      <td>-0.020087</td>\n",
       "      <td>0.011153</td>\n",
       "      <td>-0.000294</td>\n",
       "      <td>0.002714</td>\n",
       "      <td>-0.032266</td>\n",
       "      <td>0.029183</td>\n",
       "      <td>-0.000720</td>\n",
       "    </tr>\n",
       "    <tr>\n",
       "      <th>Card</th>\n",
       "      <td>0.010463</td>\n",
       "      <td>1.000000</td>\n",
       "      <td>-0.070329</td>\n",
       "      <td>0.000821</td>\n",
       "      <td>0.001018</td>\n",
       "      <td>-0.007951</td>\n",
       "      <td>-0.002706</td>\n",
       "      <td>0.020381</td>\n",
       "      <td>0.037735</td>\n",
       "      <td>0.012079</td>\n",
       "      <td>-0.000621</td>\n",
       "      <td>0.038578</td>\n",
       "      <td>0.010524</td>\n",
       "      <td>0.000534</td>\n",
       "      <td>-0.000800</td>\n",
       "    </tr>\n",
       "    <tr>\n",
       "      <th>Year</th>\n",
       "      <td>0.001466</td>\n",
       "      <td>-0.070329</td>\n",
       "      <td>1.000000</td>\n",
       "      <td>-0.055510</td>\n",
       "      <td>-0.000821</td>\n",
       "      <td>-0.006575</td>\n",
       "      <td>-0.011100</td>\n",
       "      <td>-0.002017</td>\n",
       "      <td>-0.024191</td>\n",
       "      <td>-0.000773</td>\n",
       "      <td>-0.001964</td>\n",
       "      <td>-0.619498</td>\n",
       "      <td>-0.007097</td>\n",
       "      <td>-0.021746</td>\n",
       "      <td>-0.000812</td>\n",
       "    </tr>\n",
       "    <tr>\n",
       "      <th>Month</th>\n",
       "      <td>0.000677</td>\n",
       "      <td>0.000821</td>\n",
       "      <td>-0.055510</td>\n",
       "      <td>1.000000</td>\n",
       "      <td>0.014052</td>\n",
       "      <td>0.000101</td>\n",
       "      <td>-0.000679</td>\n",
       "      <td>0.000024</td>\n",
       "      <td>0.000843</td>\n",
       "      <td>0.000880</td>\n",
       "      <td>-0.000412</td>\n",
       "      <td>0.032035</td>\n",
       "      <td>0.000398</td>\n",
       "      <td>0.002329</td>\n",
       "      <td>-0.000394</td>\n",
       "    </tr>\n",
       "    <tr>\n",
       "      <th>Day</th>\n",
       "      <td>0.001186</td>\n",
       "      <td>0.001018</td>\n",
       "      <td>-0.000821</td>\n",
       "      <td>0.014052</td>\n",
       "      <td>1.000000</td>\n",
       "      <td>-0.000061</td>\n",
       "      <td>0.000099</td>\n",
       "      <td>-0.000902</td>\n",
       "      <td>-0.000472</td>\n",
       "      <td>0.000805</td>\n",
       "      <td>0.000491</td>\n",
       "      <td>0.001292</td>\n",
       "      <td>0.000041</td>\n",
       "      <td>0.001243</td>\n",
       "      <td>0.000435</td>\n",
       "    </tr>\n",
       "    <tr>\n",
       "      <th>Time</th>\n",
       "      <td>-0.010878</td>\n",
       "      <td>-0.007951</td>\n",
       "      <td>-0.006575</td>\n",
       "      <td>0.000101</td>\n",
       "      <td>-0.000061</td>\n",
       "      <td>1.000000</td>\n",
       "      <td>0.052221</td>\n",
       "      <td>-0.005819</td>\n",
       "      <td>0.000070</td>\n",
       "      <td>0.029028</td>\n",
       "      <td>0.004494</td>\n",
       "      <td>0.002606</td>\n",
       "      <td>-0.012111</td>\n",
       "      <td>0.008975</td>\n",
       "      <td>0.004114</td>\n",
       "    </tr>\n",
       "    <tr>\n",
       "      <th>Amount</th>\n",
       "      <td>-0.011649</td>\n",
       "      <td>-0.002706</td>\n",
       "      <td>-0.011100</td>\n",
       "      <td>-0.000679</td>\n",
       "      <td>0.000099</td>\n",
       "      <td>0.052221</td>\n",
       "      <td>1.000000</td>\n",
       "      <td>-0.014479</td>\n",
       "      <td>-0.038905</td>\n",
       "      <td>-0.036965</td>\n",
       "      <td>0.027061</td>\n",
       "      <td>-0.002317</td>\n",
       "      <td>0.025658</td>\n",
       "      <td>-0.027246</td>\n",
       "      <td>0.026739</td>\n",
       "    </tr>\n",
       "    <tr>\n",
       "      <th>Merchant_Name</th>\n",
       "      <td>0.016337</td>\n",
       "      <td>0.020381</td>\n",
       "      <td>-0.002017</td>\n",
       "      <td>0.000024</td>\n",
       "      <td>-0.000902</td>\n",
       "      <td>-0.005819</td>\n",
       "      <td>-0.014479</td>\n",
       "      <td>1.000000</td>\n",
       "      <td>0.038147</td>\n",
       "      <td>0.074805</td>\n",
       "      <td>-0.004883</td>\n",
       "      <td>0.014583</td>\n",
       "      <td>-0.010393</td>\n",
       "      <td>0.048402</td>\n",
       "      <td>-0.006256</td>\n",
       "    </tr>\n",
       "    <tr>\n",
       "      <th>Zip</th>\n",
       "      <td>-0.020087</td>\n",
       "      <td>0.037735</td>\n",
       "      <td>-0.024191</td>\n",
       "      <td>0.000843</td>\n",
       "      <td>-0.000472</td>\n",
       "      <td>0.000070</td>\n",
       "      <td>-0.038905</td>\n",
       "      <td>0.038147</td>\n",
       "      <td>1.000000</td>\n",
       "      <td>0.105738</td>\n",
       "      <td>0.002644</td>\n",
       "      <td>0.079724</td>\n",
       "      <td>-0.043656</td>\n",
       "      <td>0.111918</td>\n",
       "      <td>-0.008247</td>\n",
       "    </tr>\n",
       "    <tr>\n",
       "      <th>MCC</th>\n",
       "      <td>0.011153</td>\n",
       "      <td>0.012079</td>\n",
       "      <td>-0.000773</td>\n",
       "      <td>0.000880</td>\n",
       "      <td>0.000805</td>\n",
       "      <td>0.029028</td>\n",
       "      <td>-0.036965</td>\n",
       "      <td>0.074805</td>\n",
       "      <td>0.105738</td>\n",
       "      <td>1.000000</td>\n",
       "      <td>-0.006157</td>\n",
       "      <td>0.032347</td>\n",
       "      <td>-0.053691</td>\n",
       "      <td>0.140687</td>\n",
       "      <td>-0.011014</td>\n",
       "    </tr>\n",
       "    <tr>\n",
       "      <th>Errors_Encoded</th>\n",
       "      <td>-0.000294</td>\n",
       "      <td>-0.000621</td>\n",
       "      <td>-0.001964</td>\n",
       "      <td>-0.000412</td>\n",
       "      <td>0.000491</td>\n",
       "      <td>0.004494</td>\n",
       "      <td>0.027061</td>\n",
       "      <td>-0.004883</td>\n",
       "      <td>0.002644</td>\n",
       "      <td>-0.006157</td>\n",
       "      <td>1.000000</td>\n",
       "      <td>0.001854</td>\n",
       "      <td>-0.001804</td>\n",
       "      <td>-0.000680</td>\n",
       "      <td>0.965740</td>\n",
       "    </tr>\n",
       "    <tr>\n",
       "      <th>Use_Chip_Encoded</th>\n",
       "      <td>0.002714</td>\n",
       "      <td>0.038578</td>\n",
       "      <td>-0.619498</td>\n",
       "      <td>0.032035</td>\n",
       "      <td>0.001292</td>\n",
       "      <td>0.002606</td>\n",
       "      <td>-0.002317</td>\n",
       "      <td>0.014583</td>\n",
       "      <td>0.079724</td>\n",
       "      <td>0.032347</td>\n",
       "      <td>0.001854</td>\n",
       "      <td>1.000000</td>\n",
       "      <td>-0.018642</td>\n",
       "      <td>0.087037</td>\n",
       "      <td>-0.001567</td>\n",
       "    </tr>\n",
       "    <tr>\n",
       "      <th>Merchant_City_Encoded</th>\n",
       "      <td>-0.032266</td>\n",
       "      <td>0.010524</td>\n",
       "      <td>-0.007097</td>\n",
       "      <td>0.000398</td>\n",
       "      <td>0.000041</td>\n",
       "      <td>-0.012111</td>\n",
       "      <td>0.025658</td>\n",
       "      <td>-0.010393</td>\n",
       "      <td>-0.043656</td>\n",
       "      <td>-0.053691</td>\n",
       "      <td>-0.001804</td>\n",
       "      <td>-0.018642</td>\n",
       "      <td>1.000000</td>\n",
       "      <td>-0.174712</td>\n",
       "      <td>0.002050</td>\n",
       "    </tr>\n",
       "    <tr>\n",
       "      <th>Merchant_State_Encoded</th>\n",
       "      <td>0.029183</td>\n",
       "      <td>0.000534</td>\n",
       "      <td>-0.021746</td>\n",
       "      <td>0.002329</td>\n",
       "      <td>0.001243</td>\n",
       "      <td>0.008975</td>\n",
       "      <td>-0.027246</td>\n",
       "      <td>0.048402</td>\n",
       "      <td>0.111918</td>\n",
       "      <td>0.140687</td>\n",
       "      <td>-0.000680</td>\n",
       "      <td>0.087037</td>\n",
       "      <td>-0.174712</td>\n",
       "      <td>1.000000</td>\n",
       "      <td>-0.011907</td>\n",
       "    </tr>\n",
       "    <tr>\n",
       "      <th>Suspected_Fraud</th>\n",
       "      <td>-0.000720</td>\n",
       "      <td>-0.000800</td>\n",
       "      <td>-0.000812</td>\n",
       "      <td>-0.000394</td>\n",
       "      <td>0.000435</td>\n",
       "      <td>0.004114</td>\n",
       "      <td>0.026739</td>\n",
       "      <td>-0.006256</td>\n",
       "      <td>-0.008247</td>\n",
       "      <td>-0.011014</td>\n",
       "      <td>0.965740</td>\n",
       "      <td>-0.001567</td>\n",
       "      <td>0.002050</td>\n",
       "      <td>-0.011907</td>\n",
       "      <td>1.000000</td>\n",
       "    </tr>\n",
       "  </tbody>\n",
       "</table>\n",
       "</div>"
      ],
      "text/plain": [
       "                            User      Card      Year     Month       Day  \\\n",
       "User                    1.000000  0.010463  0.001466  0.000677  0.001186   \n",
       "Card                    0.010463  1.000000 -0.070329  0.000821  0.001018   \n",
       "Year                    0.001466 -0.070329  1.000000 -0.055510 -0.000821   \n",
       "Month                   0.000677  0.000821 -0.055510  1.000000  0.014052   \n",
       "Day                     0.001186  0.001018 -0.000821  0.014052  1.000000   \n",
       "Time                   -0.010878 -0.007951 -0.006575  0.000101 -0.000061   \n",
       "Amount                 -0.011649 -0.002706 -0.011100 -0.000679  0.000099   \n",
       "Merchant_Name           0.016337  0.020381 -0.002017  0.000024 -0.000902   \n",
       "Zip                    -0.020087  0.037735 -0.024191  0.000843 -0.000472   \n",
       "MCC                     0.011153  0.012079 -0.000773  0.000880  0.000805   \n",
       "Errors_Encoded         -0.000294 -0.000621 -0.001964 -0.000412  0.000491   \n",
       "Use_Chip_Encoded        0.002714  0.038578 -0.619498  0.032035  0.001292   \n",
       "Merchant_City_Encoded  -0.032266  0.010524 -0.007097  0.000398  0.000041   \n",
       "Merchant_State_Encoded  0.029183  0.000534 -0.021746  0.002329  0.001243   \n",
       "Suspected_Fraud        -0.000720 -0.000800 -0.000812 -0.000394  0.000435   \n",
       "\n",
       "                            Time    Amount  Merchant_Name       Zip       MCC  \\\n",
       "User                   -0.010878 -0.011649       0.016337 -0.020087  0.011153   \n",
       "Card                   -0.007951 -0.002706       0.020381  0.037735  0.012079   \n",
       "Year                   -0.006575 -0.011100      -0.002017 -0.024191 -0.000773   \n",
       "Month                   0.000101 -0.000679       0.000024  0.000843  0.000880   \n",
       "Day                    -0.000061  0.000099      -0.000902 -0.000472  0.000805   \n",
       "Time                    1.000000  0.052221      -0.005819  0.000070  0.029028   \n",
       "Amount                  0.052221  1.000000      -0.014479 -0.038905 -0.036965   \n",
       "Merchant_Name          -0.005819 -0.014479       1.000000  0.038147  0.074805   \n",
       "Zip                     0.000070 -0.038905       0.038147  1.000000  0.105738   \n",
       "MCC                     0.029028 -0.036965       0.074805  0.105738  1.000000   \n",
       "Errors_Encoded          0.004494  0.027061      -0.004883  0.002644 -0.006157   \n",
       "Use_Chip_Encoded        0.002606 -0.002317       0.014583  0.079724  0.032347   \n",
       "Merchant_City_Encoded  -0.012111  0.025658      -0.010393 -0.043656 -0.053691   \n",
       "Merchant_State_Encoded  0.008975 -0.027246       0.048402  0.111918  0.140687   \n",
       "Suspected_Fraud         0.004114  0.026739      -0.006256 -0.008247 -0.011014   \n",
       "\n",
       "                        Errors_Encoded  Use_Chip_Encoded  \\\n",
       "User                         -0.000294          0.002714   \n",
       "Card                         -0.000621          0.038578   \n",
       "Year                         -0.001964         -0.619498   \n",
       "Month                        -0.000412          0.032035   \n",
       "Day                           0.000491          0.001292   \n",
       "Time                          0.004494          0.002606   \n",
       "Amount                        0.027061         -0.002317   \n",
       "Merchant_Name                -0.004883          0.014583   \n",
       "Zip                           0.002644          0.079724   \n",
       "MCC                          -0.006157          0.032347   \n",
       "Errors_Encoded                1.000000          0.001854   \n",
       "Use_Chip_Encoded              0.001854          1.000000   \n",
       "Merchant_City_Encoded        -0.001804         -0.018642   \n",
       "Merchant_State_Encoded       -0.000680          0.087037   \n",
       "Suspected_Fraud               0.965740         -0.001567   \n",
       "\n",
       "                        Merchant_City_Encoded  Merchant_State_Encoded  \\\n",
       "User                                -0.032266                0.029183   \n",
       "Card                                 0.010524                0.000534   \n",
       "Year                                -0.007097               -0.021746   \n",
       "Month                                0.000398                0.002329   \n",
       "Day                                  0.000041                0.001243   \n",
       "Time                                -0.012111                0.008975   \n",
       "Amount                               0.025658               -0.027246   \n",
       "Merchant_Name                       -0.010393                0.048402   \n",
       "Zip                                 -0.043656                0.111918   \n",
       "MCC                                 -0.053691                0.140687   \n",
       "Errors_Encoded                      -0.001804               -0.000680   \n",
       "Use_Chip_Encoded                    -0.018642                0.087037   \n",
       "Merchant_City_Encoded                1.000000               -0.174712   \n",
       "Merchant_State_Encoded              -0.174712                1.000000   \n",
       "Suspected_Fraud                      0.002050               -0.011907   \n",
       "\n",
       "                        Suspected_Fraud  \n",
       "User                          -0.000720  \n",
       "Card                          -0.000800  \n",
       "Year                          -0.000812  \n",
       "Month                         -0.000394  \n",
       "Day                            0.000435  \n",
       "Time                           0.004114  \n",
       "Amount                         0.026739  \n",
       "Merchant_Name                 -0.006256  \n",
       "Zip                           -0.008247  \n",
       "MCC                           -0.011014  \n",
       "Errors_Encoded                 0.965740  \n",
       "Use_Chip_Encoded              -0.001567  \n",
       "Merchant_City_Encoded          0.002050  \n",
       "Merchant_State_Encoded        -0.011907  \n",
       "Suspected_Fraud                1.000000  "
      ]
     },
     "execution_count": 26,
     "metadata": {},
     "output_type": "execute_result"
    }
   ],
   "source": [
    "cred_trans.corr()"
   ]
  },
  {
   "cell_type": "code",
   "execution_count": 27,
   "metadata": {
    "collapsed": false,
    "pycharm": {
     "name": "#%%\n"
    }
   },
   "outputs": [
    {
     "data": {
      "image/png": "[encoded data removed]",
      "text/plain": [
       "<Figure size 1440x1080 with 2 Axes>"
      ]
     },
     "metadata": {
      "needs_background": "light"
     },
     "output_type": "display_data"
    }
   ],
   "source": [
    "plt.figure(figsize=(20,15))\n",
    "sns.heatmap(cred_trans.corr(), annot=True, cmap='rocket')\n",
    "plt.show()"
   ]
  },
  {
   "cell_type": "markdown",
   "metadata": {
    "collapsed": false,
    "pycharm": {
     "name": "#%% md\n"
    }
   },
   "source": [
    "> ### In the above heatmap the only strong correlation we can see within our dataset is between type of transaction (Use_chip) and Year with a correlation coefficient of -0.62. However, the rest of the dataset is not giving us any strong correlations to indicate any suspicious fraudulent causes. This is to be expected as the dataset is large and unlabelled dataset with no target."
   ]
  },
  {
   "cell_type": "markdown",
   "metadata": {
    "collapsed": false,
    "pycharm": {
     "name": "#%% md\n"
    }
   },
   "source": [
    "## Sub-Sampling Data\n",
    "> Let's work with a dataframe that contains just the errors (containing 38592 rows) and concatenate this with an equal number\n",
    "> of rows with the non-erroneous data so that we're working with a fair sample size."
   ]
  },
  {
   "cell_type": "code",
   "execution_count": 28,
   "metadata": {
    "pycharm": {
     "name": "#%%\n"
    }
   },
   "outputs": [],
   "source": [
    "def subsample_data(df,n=38592,random_state=123):\n",
    "    \"\"\"\n",
    "    get an undersampled version of dataset containing erroneous and non_erroneous in 1:1 ratio \n",
    "    \"\"\"\n",
    "    df_errors = df.loc[cred_trans['Suspected_Fraud'] != 0].copy() ## Dataframe containing 'Suspected Fraud' i.e. Erroneous data\n",
    "    non_errors = df.loc[cred_trans['Suspected_Fraud'] == 0].copy() ## Dataframe containing 'Suspected Fraud' i.e. Non-Erroneous data\n",
    "    df_non_errors = non_errors.sample(n=n, random_state=random_state)\n",
    "    X_concat = pd.concat([df_errors, df_non_errors])\n",
    "\n",
    "    print(X_concat.shape)\n",
    "    return X_concat"
   ]
  },
  {
   "cell_type": "code",
   "execution_count": 29,
   "metadata": {
    "collapsed": false,
    "pycharm": {
     "name": "#%%\n"
    }
   },
   "outputs": [
    {
     "name": "stdout",
     "output_type": "stream",
     "text": [
      "(77184, 15)\n"
     ]
    },
    {
     "data": {
      "text/html": [
       "<div>\n",
       "<style scoped>\n",
       "    .dataframe tbody tr th:only-of-type {\n",
       "        vertical-align: middle;\n",
       "    }\n",
       "\n",
       "    .dataframe tbody tr th {\n",
       "        vertical-align: top;\n",
       "    }\n",
       "\n",
       "    .dataframe thead th {\n",
       "        text-align: right;\n",
       "    }\n",
       "</style>\n",
       "<table border=\"1\" class=\"dataframe\">\n",
       "  <thead>\n",
       "    <tr style=\"text-align: right;\">\n",
       "      <th></th>\n",
       "      <th>User</th>\n",
       "      <th>Card</th>\n",
       "      <th>Year</th>\n",
       "      <th>Month</th>\n",
       "      <th>Day</th>\n",
       "      <th>Time</th>\n",
       "      <th>Amount</th>\n",
       "      <th>Merchant_Name</th>\n",
       "      <th>Zip</th>\n",
       "      <th>MCC</th>\n",
       "      <th>Errors_Encoded</th>\n",
       "      <th>Use_Chip_Encoded</th>\n",
       "      <th>Merchant_City_Encoded</th>\n",
       "      <th>Merchant_State_Encoded</th>\n",
       "      <th>Suspected_Fraud</th>\n",
       "    </tr>\n",
       "  </thead>\n",
       "  <tbody>\n",
       "    <tr>\n",
       "      <th>3</th>\n",
       "      <td>0</td>\n",
       "      <td>0</td>\n",
       "      <td>2002</td>\n",
       "      <td>9</td>\n",
       "      <td>12</td>\n",
       "      <td>6</td>\n",
       "      <td>122.10</td>\n",
       "      <td>4060646732831064559</td>\n",
       "      <td>91750.0</td>\n",
       "      <td>5411</td>\n",
       "      <td>20</td>\n",
       "      <td>2</td>\n",
       "      <td>5150</td>\n",
       "      <td>26</td>\n",
       "      <td>1</td>\n",
       "    </tr>\n",
       "    <tr>\n",
       "      <th>51</th>\n",
       "      <td>0</td>\n",
       "      <td>0</td>\n",
       "      <td>2003</td>\n",
       "      <td>10</td>\n",
       "      <td>1</td>\n",
       "      <td>6</td>\n",
       "      <td>121.12</td>\n",
       "      <td>1913477460590765860</td>\n",
       "      <td>91750.0</td>\n",
       "      <td>5300</td>\n",
       "      <td>20</td>\n",
       "      <td>2</td>\n",
       "      <td>5150</td>\n",
       "      <td>26</td>\n",
       "      <td>1</td>\n",
       "    </tr>\n",
       "    <tr>\n",
       "      <th>86</th>\n",
       "      <td>0</td>\n",
       "      <td>0</td>\n",
       "      <td>2005</td>\n",
       "      <td>2</td>\n",
       "      <td>10</td>\n",
       "      <td>19</td>\n",
       "      <td>15.85</td>\n",
       "      <td>5817218446178736267</td>\n",
       "      <td>91750.0</td>\n",
       "      <td>5912</td>\n",
       "      <td>14</td>\n",
       "      <td>2</td>\n",
       "      <td>5150</td>\n",
       "      <td>26</td>\n",
       "      <td>1</td>\n",
       "    </tr>\n",
       "    <tr>\n",
       "      <th>100</th>\n",
       "      <td>0</td>\n",
       "      <td>0</td>\n",
       "      <td>2005</td>\n",
       "      <td>5</td>\n",
       "      <td>13</td>\n",
       "      <td>13</td>\n",
       "      <td>61.40</td>\n",
       "      <td>2027553650310142703</td>\n",
       "      <td>84084.0</td>\n",
       "      <td>5541</td>\n",
       "      <td>22</td>\n",
       "      <td>2</td>\n",
       "      <td>10619</td>\n",
       "      <td>187</td>\n",
       "      <td>1</td>\n",
       "    </tr>\n",
       "    <tr>\n",
       "      <th>119</th>\n",
       "      <td>0</td>\n",
       "      <td>0</td>\n",
       "      <td>2005</td>\n",
       "      <td>11</td>\n",
       "      <td>27</td>\n",
       "      <td>6</td>\n",
       "      <td>118.52</td>\n",
       "      <td>-245178307025547046</td>\n",
       "      <td>91750.0</td>\n",
       "      <td>5311</td>\n",
       "      <td>20</td>\n",
       "      <td>2</td>\n",
       "      <td>5150</td>\n",
       "      <td>26</td>\n",
       "      <td>1</td>\n",
       "    </tr>\n",
       "  </tbody>\n",
       "</table>\n",
       "</div>"
      ],
      "text/plain": [
       "     User  Card  Year  Month  Day  Time  Amount        Merchant_Name      Zip  \\\n",
       "3       0     0  2002      9   12     6  122.10  4060646732831064559  91750.0   \n",
       "51      0     0  2003     10    1     6  121.12  1913477460590765860  91750.0   \n",
       "86      0     0  2005      2   10    19   15.85  5817218446178736267  91750.0   \n",
       "100     0     0  2005      5   13    13   61.40  2027553650310142703  84084.0   \n",
       "119     0     0  2005     11   27     6  118.52  -245178307025547046  91750.0   \n",
       "\n",
       "      MCC  Errors_Encoded  Use_Chip_Encoded  Merchant_City_Encoded  \\\n",
       "3    5411              20                 2                   5150   \n",
       "51   5300              20                 2                   5150   \n",
       "86   5912              14                 2                   5150   \n",
       "100  5541              22                 2                  10619   \n",
       "119  5311              20                 2                   5150   \n",
       "\n",
       "     Merchant_State_Encoded  Suspected_Fraud  \n",
       "3                        26                1  \n",
       "51                       26                1  \n",
       "86                       26                1  \n",
       "100                     187                1  \n",
       "119                      26                1  "
      ]
     },
     "execution_count": 29,
     "metadata": {},
     "output_type": "execute_result"
    }
   ],
   "source": [
    "X = subsample_data(cred_trans)\n",
    "X.head()"
   ]
  },
  {
   "cell_type": "code",
   "execution_count": 30,
   "metadata": {
    "collapsed": false,
    "pycharm": {
     "name": "#%%\n"
    }
   },
   "outputs": [
    {
     "data": {
      "text/html": [
       "<div>\n",
       "<style scoped>\n",
       "    .dataframe tbody tr th:only-of-type {\n",
       "        vertical-align: middle;\n",
       "    }\n",
       "\n",
       "    .dataframe tbody tr th {\n",
       "        vertical-align: top;\n",
       "    }\n",
       "\n",
       "    .dataframe thead th {\n",
       "        text-align: right;\n",
       "    }\n",
       "</style>\n",
       "<table border=\"1\" class=\"dataframe\">\n",
       "  <thead>\n",
       "    <tr style=\"text-align: right;\">\n",
       "      <th></th>\n",
       "      <th>User</th>\n",
       "      <th>Card</th>\n",
       "      <th>Year</th>\n",
       "      <th>Month</th>\n",
       "      <th>Day</th>\n",
       "      <th>Time</th>\n",
       "      <th>Amount</th>\n",
       "      <th>Merchant_Name</th>\n",
       "      <th>Zip</th>\n",
       "      <th>MCC</th>\n",
       "      <th>Errors_Encoded</th>\n",
       "      <th>Use_Chip_Encoded</th>\n",
       "      <th>Merchant_City_Encoded</th>\n",
       "      <th>Merchant_State_Encoded</th>\n",
       "    </tr>\n",
       "  </thead>\n",
       "  <tbody>\n",
       "    <tr>\n",
       "      <th>3</th>\n",
       "      <td>0</td>\n",
       "      <td>0</td>\n",
       "      <td>2002</td>\n",
       "      <td>9</td>\n",
       "      <td>12</td>\n",
       "      <td>6</td>\n",
       "      <td>122.10</td>\n",
       "      <td>4060646732831064559</td>\n",
       "      <td>91750.0</td>\n",
       "      <td>5411</td>\n",
       "      <td>20</td>\n",
       "      <td>2</td>\n",
       "      <td>5150</td>\n",
       "      <td>26</td>\n",
       "    </tr>\n",
       "    <tr>\n",
       "      <th>51</th>\n",
       "      <td>0</td>\n",
       "      <td>0</td>\n",
       "      <td>2003</td>\n",
       "      <td>10</td>\n",
       "      <td>1</td>\n",
       "      <td>6</td>\n",
       "      <td>121.12</td>\n",
       "      <td>1913477460590765860</td>\n",
       "      <td>91750.0</td>\n",
       "      <td>5300</td>\n",
       "      <td>20</td>\n",
       "      <td>2</td>\n",
       "      <td>5150</td>\n",
       "      <td>26</td>\n",
       "    </tr>\n",
       "    <tr>\n",
       "      <th>86</th>\n",
       "      <td>0</td>\n",
       "      <td>0</td>\n",
       "      <td>2005</td>\n",
       "      <td>2</td>\n",
       "      <td>10</td>\n",
       "      <td>19</td>\n",
       "      <td>15.85</td>\n",
       "      <td>5817218446178736267</td>\n",
       "      <td>91750.0</td>\n",
       "      <td>5912</td>\n",
       "      <td>14</td>\n",
       "      <td>2</td>\n",
       "      <td>5150</td>\n",
       "      <td>26</td>\n",
       "    </tr>\n",
       "    <tr>\n",
       "      <th>100</th>\n",
       "      <td>0</td>\n",
       "      <td>0</td>\n",
       "      <td>2005</td>\n",
       "      <td>5</td>\n",
       "      <td>13</td>\n",
       "      <td>13</td>\n",
       "      <td>61.40</td>\n",
       "      <td>2027553650310142703</td>\n",
       "      <td>84084.0</td>\n",
       "      <td>5541</td>\n",
       "      <td>22</td>\n",
       "      <td>2</td>\n",
       "      <td>10619</td>\n",
       "      <td>187</td>\n",
       "    </tr>\n",
       "    <tr>\n",
       "      <th>119</th>\n",
       "      <td>0</td>\n",
       "      <td>0</td>\n",
       "      <td>2005</td>\n",
       "      <td>11</td>\n",
       "      <td>27</td>\n",
       "      <td>6</td>\n",
       "      <td>118.52</td>\n",
       "      <td>-245178307025547046</td>\n",
       "      <td>91750.0</td>\n",
       "      <td>5311</td>\n",
       "      <td>20</td>\n",
       "      <td>2</td>\n",
       "      <td>5150</td>\n",
       "      <td>26</td>\n",
       "    </tr>\n",
       "  </tbody>\n",
       "</table>\n",
       "</div>"
      ],
      "text/plain": [
       "     User  Card  Year  Month  Day  Time  Amount        Merchant_Name      Zip  \\\n",
       "3       0     0  2002      9   12     6  122.10  4060646732831064559  91750.0   \n",
       "51      0     0  2003     10    1     6  121.12  1913477460590765860  91750.0   \n",
       "86      0     0  2005      2   10    19   15.85  5817218446178736267  91750.0   \n",
       "100     0     0  2005      5   13    13   61.40  2027553650310142703  84084.0   \n",
       "119     0     0  2005     11   27     6  118.52  -245178307025547046  91750.0   \n",
       "\n",
       "      MCC  Errors_Encoded  Use_Chip_Encoded  Merchant_City_Encoded  \\\n",
       "3    5411              20                 2                   5150   \n",
       "51   5300              20                 2                   5150   \n",
       "86   5912              14                 2                   5150   \n",
       "100  5541              22                 2                  10619   \n",
       "119  5311              20                 2                   5150   \n",
       "\n",
       "     Merchant_State_Encoded  \n",
       "3                        26  \n",
       "51                       26  \n",
       "86                       26  \n",
       "100                     187  \n",
       "119                      26  "
      ]
     },
     "execution_count": 30,
     "metadata": {},
     "output_type": "execute_result"
    }
   ],
   "source": [
    "## Let's drop the 'Suspected Fraud Column' to exclude this out from the modelling. Let's create a copy of the X dataframe\n",
    "X_copy = X.drop(columns=['Suspected_Fraud']).copy()\n",
    "X_copy.head()"
   ]
  },
  {
   "cell_type": "markdown",
   "metadata": {
    "collapsed": false,
    "pycharm": {
     "name": "#%% md\n"
    }
   },
   "source": [
    "<img src=\"https://iknowfirst.com/wp-content/uploads/2018/07/Screen-Shot-2018-07-05-at-4.53.57-PM-768x286.png\">"
   ]
  },
  {
   "cell_type": "markdown",
   "metadata": {
    "collapsed": false,
    "pycharm": {
     "name": "#%% md\n"
    }
   },
   "source": [
    "## KMEANS Elbow Method Joint & Silhouette Coefficient"
   ]
  },
  {
   "cell_type": "code",
   "execution_count": 31,
   "metadata": {
    "collapsed": false,
    "pycharm": {
     "name": "#%%\n"
    }
   },
   "outputs": [],
   "source": [
    "def kmeans_modelling(X,scaling=False):\n",
    "    \"\"\"Creating a function to find the best K value in terms of both scaled and unscaled data\"\"\"\n",
    "    k_range = range(2, 10)\n",
    "    scores = []\n",
    "    inertia = []\n",
    "    if scaling == True:\n",
    "        scaler = MinMaxScaler()\n",
    "        X_scaled = scaler.fit_transform(X)\n",
    "        #  convert numpy array to Dataframe\n",
    "        X = pd.DataFrame(X_scaled,index=X.index,columns=X.columns)\n",
    "\n",
    "    for k in k_range:\n",
    "            km = KMeans(n_clusters=k, random_state=124)\n",
    "            km.fit(X)\n",
    "            scores.append(metrics.silhouette_score(X, km.labels_))\n",
    "            inertia.append(km.inertia_)\n",
    "    return inertia, scores"
   ]
  },
  {
   "cell_type": "code",
   "execution_count": 32,
   "metadata": {
    "collapsed": false,
    "pycharm": {
     "name": "#%%\n"
    }
   },
   "outputs": [],
   "source": [
    "unscaled_inertia, unscaled_sc = kmeans_modelling(X_copy, scaling=False)"
   ]
  },
  {
   "cell_type": "code",
   "execution_count": 33,
   "metadata": {
    "collapsed": false,
    "pycharm": {
     "name": "#%%\n"
    }
   },
   "outputs": [
    {
     "name": "stdout",
     "output_type": "stream",
     "text": [
      "[4.3513740260850564e+41, 1.9089722719232895e+41, 1.1507716552370326e+41, 7.506873235095105e+40, 4.963596340646879e+40, 3.7800909796834057e+40, 2.7722013574664353e+40, 1.9688789605025187e+40]\n"
     ]
    }
   ],
   "source": [
    "print(unscaled_inertia)"
   ]
  },
  {
   "cell_type": "code",
   "execution_count": 34,
   "metadata": {
    "collapsed": false,
    "pycharm": {
     "name": "#%%\n"
    }
   },
   "outputs": [
    {
     "name": "stdout",
     "output_type": "stream",
     "text": [
      "[0.6357746106512856, 0.6227439118630859, 0.6024631280177534, 0.5911601793303307, 0.5987706491097674, 0.5957947430935833, 0.6173794691418802, 0.6333421605071572]\n"
     ]
    }
   ],
   "source": [
    "print(unscaled_sc)"
   ]
  },
  {
   "cell_type": "code",
   "execution_count": 35,
   "metadata": {
    "collapsed": false,
    "pycharm": {
     "name": "#%%\n"
    }
   },
   "outputs": [],
   "source": [
    "k_range = range(2, 10)"
   ]
  },
  {
   "cell_type": "code",
   "execution_count": 36,
   "metadata": {
    "collapsed": false,
    "pycharm": {
     "name": "#%%\n"
    }
   },
   "outputs": [],
   "source": [
    "def plot_cluster_subplots(df,n_clusters,main_title='Cluster Plot',):\n",
    "\n",
    "    \"\"\"\n",
    "    function to allow us to play around with different feature columns and plot different visualisations in 4 different plots (as seen below)\n",
    "\n",
    "    Columns with corresponding feature number\n",
    "    'User' = 0, 'Card' = 1, 'Year' = 2, 'Month' = 3, 'Day' = 4,\n",
    "    'Time' = 5, 'Amount' = 6, 'Merchant_Name' = 7, 'Zip' = 8,\n",
    "    'MCC' = 9, 'Errors_Encoded' = 10, 'Use_Chip_Encoded' = 11,\n",
    "    'Merchant_City_Encoded' = 12, 'Merchant_State_Encoded' = 13\n",
    "    \"\"\"\n",
    "\n",
    "    colours = ['#3CCF4E', '#1B2430', '#D61C4E', '#3330E4', '#EF5B0C', '#EAE509']\n",
    "    fig, axs = plt.subplots(1, 4, figsize=(15, 8))\n",
    "    fig.suptitle(main_title)\n",
    "\n",
    "\n",
    "    for i in range(0,n_clusters): ## iterating through n clusters\n",
    "\n",
    "        filtered_df = df[df['pred_labels'] == i]\n",
    "        filtered_df = filtered_df.to_numpy()\n",
    "\n",
    "        #Plotting the results\n",
    "        plt.subplot(1, 4,1)\n",
    "        plt.scatter(filtered_df[:,1] , filtered_df[:,10] , c = colours[i])\n",
    "        plt.title('Card Versus Errors')\n",
    "\n",
    "        plt.subplot(1, 4,2)\n",
    "        plt.scatter(filtered_df[:,5] , filtered_df[:,6] , c = colours[i])\n",
    "        plt.title('Time Versus Amount')\n",
    "\n",
    "        plt.subplot(1, 4,3)\n",
    "        plt.scatter(filtered_df[:,2] , filtered_df[:,13] , c = colours[i])\n",
    "        plt.title('Year Versus Merchant State')\n",
    "\n",
    "        plt.subplot(1, 4,4)\n",
    "        plt.scatter(filtered_df[:,0] , filtered_df[:,10] , c = colours[i])\n",
    "        plt.title('User Versus Errors')\n",
    "    plt.show()\n",
    "\n",
    "\n",
    "def plot_cluster_evaluation(inertia, sc_score,k_range,inertia_title, sc_title):\n",
    "    \"\"\"Function to evaluate and visualise the inertia score (elbow method) as well as the silhouette coefficient\"\"\"\n",
    "\n",
    "    sns.set_theme(style=\"whitegrid\")\n",
    "    fig, axs = plt.subplots(1, 2, figsize=(15, 8))\n",
    "    plt.subplot(1, 2,1)\n",
    "    plt.plot(k_range, inertia,color=\"#EF5B0C\",marker='o')\n",
    "    plt.xlabel('Number of clusters')\n",
    "    plt.ylabel('inertia')\n",
    "    plt.title(inertia_title)\n",
    "    plt.grid(True)\n",
    "\n",
    "    plt.subplot(1, 2, 2)\n",
    "    plt.plot(k_range, sc_score,color=\"#FA2FB5\",marker='o')\n",
    "    plt.xlabel('Number of clusters')\n",
    "    plt.ylabel('Silhouette Coefficient')\n",
    "    plt.title(sc_title)\n",
    "    plt.grid(True)\n",
    "\n",
    "\n",
    "\n",
    "    plt.show()\n"
   ]
  },
  {
   "cell_type": "code",
   "execution_count": 37,
   "metadata": {
    "collapsed": false,
    "pycharm": {
     "name": "#%%\n"
    }
   },
   "outputs": [
    {
     "data": {
      "image/png": "[encoded data removed]",
      "text/plain": [
       "<Figure size 1080x576 with 2 Axes>"
      ]
     },
     "metadata": {},
     "output_type": "display_data"
    }
   ],
   "source": [
    "plot_cluster_evaluation(unscaled_inertia,unscaled_sc,k_range, \"Unscaled Data - Elbow Method\", \"Unscaled Data - Silhouette Coefficient\", )"
   ]
  },
  {
   "cell_type": "markdown",
   "metadata": {
    "collapsed": false,
    "pycharm": {
     "name": "#%% md\n"
    }
   },
   "source": [
    "> ### From the graph above with unscaled data, we were not able to draw an evaluation of an optimum number of clusters since we were only ranging through a K value from 2-10. The graph above detects an increase after a K of 9, but due to the computational power required and time taken to run this function, we didn't get to explore a higher K value. (for example K=10 could have produced a better silhouette coefficient)"
   ]
  },
  {
   "cell_type": "markdown",
   "metadata": {
    "collapsed": false,
    "pycharm": {
     "name": "#%% md\n"
    }
   },
   "source": [
    "## KMeans Cluster Plot"
   ]
  },
  {
   "cell_type": "markdown",
   "metadata": {
    "collapsed": false,
    "pycharm": {
     "name": "#%% md\n"
    }
   },
   "source": [
    "<u>Unscaled Data KMeans Clustering</u>"
   ]
  },
  {
   "cell_type": "code",
   "execution_count": 38,
   "metadata": {
    "collapsed": false,
    "pycharm": {
     "name": "#%%\n"
    }
   },
   "outputs": [],
   "source": [
    "model = KMeans(n_clusters=5)\n",
    "\n",
    "# Fit model to samples\n",
    "model.fit(X_copy)\n",
    "\n",
    "pred_labels = model.labels_\n",
    "X_copy['pred_labels']  =pred_labels"
   ]
  },
  {
   "cell_type": "code",
   "execution_count": 39,
   "metadata": {
    "collapsed": false,
    "pycharm": {
     "name": "#%%\n"
    }
   },
   "outputs": [
    {
     "data": {
      "image/png": "[encoded data removed]",
      "text/plain": [
       "<Figure size 1080x576 with 4 Axes>"
      ]
     },
     "metadata": {},
     "output_type": "display_data"
    }
   ],
   "source": [
    "plot_cluster_subplots(X_copy,n_clusters=5,main_title='Unscaled Data KMeans Clustering')"
   ]
  },
  {
   "cell_type": "markdown",
   "metadata": {
    "collapsed": false,
    "pycharm": {
     "name": "#%% md\n"
    }
   },
   "source": [
    "<u>Scaled Data KMeans Clustering</u>"
   ]
  },
  {
   "cell_type": "code",
   "execution_count": 40,
   "metadata": {
    "collapsed": false,
    "pycharm": {
     "name": "#%%\n"
    }
   },
   "outputs": [],
   "source": [
    "scaler = MinMaxScaler()\n",
    "X_scaled = scaler.fit_transform(X)\n",
    "#  convert numpy array to Dataframe\n",
    "X_scaled = pd.DataFrame(X_scaled,index=X.index,columns=X.columns)"
   ]
  },
  {
   "cell_type": "code",
   "execution_count": 41,
   "metadata": {
    "collapsed": false,
    "pycharm": {
     "name": "#%%\n"
    }
   },
   "outputs": [],
   "source": [
    "scaled_inertia, scaled_sc = kmeans_modelling(X_copy, scaling=True)"
   ]
  },
  {
   "cell_type": "code",
   "execution_count": 42,
   "metadata": {
    "collapsed": false,
    "pycharm": {
     "name": "#%%\n"
    }
   },
   "outputs": [
    {
     "data": {
      "image/png": "[encoded data removed]",
      "text/plain": [
       "<Figure size 1080x576 with 2 Axes>"
      ]
     },
     "metadata": {},
     "output_type": "display_data"
    }
   ],
   "source": [
    "plot_cluster_evaluation(scaled_inertia,scaled_sc,k_range, \"Scaled Data - Elbow Method\", \"Scaled Data - Silhouette Coefficient\")"
   ]
  },
  {
   "cell_type": "markdown",
   "metadata": {
    "collapsed": false,
    "pycharm": {
     "name": "#%% md\n"
    }
   },
   "source": [
    "> ### From the graphs above with scaled data, the K value points to 5"
   ]
  },
  {
   "cell_type": "markdown",
   "metadata": {
    "collapsed": false,
    "pycharm": {
     "name": "#%% md\n"
    }
   },
   "source": [
    "> ### From the above we can conclude that scaling the data gives us a better result than unscaled data, because the range of values within the Merchant Name is quite large and hence this could be the cause for the silhouette coefficient score to fluctuate how it did in a W shape - however, this is purely based on assumption.\n",
    "> ### We can also see that by looking at the scaled data, the elbow method points to an ideal number of clusters being 5 which is backed by the silhouette coefficient.\n"
   ]
  },
  {
   "cell_type": "markdown",
   "metadata": {
    "pycharm": {
     "name": "#%% md\n"
    }
   },
   "source": [
    "### Scaled Cluster Plot"
   ]
  },
  {
   "cell_type": "code",
   "execution_count": 1,
   "metadata": {
    "pycharm": {
     "name": "#%%\n"
    }
   },
   "outputs": [
    {
     "ename": "NameError",
     "evalue": "name 'KMeans' is not defined",
     "output_type": "error",
     "traceback": [
      "\u001b[1;31m---------------------------------------------------------------------------\u001b[0m",
      "\u001b[1;31mNameError\u001b[0m                                 Traceback (most recent call last)",
      "\u001b[1;32md:\\DS_AI\\Digital Futures\\Projects\\4-\\Fraud_Busters__Final_.ipynb Cell 62\u001b[0m in \u001b[0;36m<cell line: 1>\u001b[1;34m()\u001b[0m\n\u001b[1;32m----> <a href='vscode-notebook-cell:/d%3A/DS_AI/Digital%20Futures/Projects/4-/Fraud_Busters__Final_.ipynb#ch0000061?line=0'>1</a>\u001b[0m model \u001b[39m=\u001b[39m KMeans(n_clusters\u001b[39m=\u001b[39m\u001b[39m5\u001b[39m)\n\u001b[0;32m      <a href='vscode-notebook-cell:/d%3A/DS_AI/Digital%20Futures/Projects/4-/Fraud_Busters__Final_.ipynb#ch0000061?line=2'>3</a>\u001b[0m \u001b[39m# Fit model to samples\u001b[39;00m\n\u001b[0;32m      <a href='vscode-notebook-cell:/d%3A/DS_AI/Digital%20Futures/Projects/4-/Fraud_Busters__Final_.ipynb#ch0000061?line=3'>4</a>\u001b[0m model\u001b[39m.\u001b[39mfit(X_scaled)\n",
      "\u001b[1;31mNameError\u001b[0m: name 'KMeans' is not defined"
     ]
    }
   ],
   "source": [
    "\n",
    "model = KMeans(n_clusters=5)\n",
    "\n",
    "# Fit model to samples\n",
    "model.fit(X_scaled)\n",
    "\n",
    "pred_labels = model.labels_\n",
    "X_scaled['pred_labels']  =pred_labels\n",
    "plot_cluster_subplots(X_copy,n_clusters=5,main_title='Scaled Data KMeans Clustering')\n"
   ]
  },
  {
   "cell_type": "markdown",
   "metadata": {
    "collapsed": false,
    "pycharm": {
     "name": "#%% md\n"
    }
   },
   "source": [
    "### PCA"
   ]
  },
  {
   "cell_type": "code",
   "execution_count": 67,
   "metadata": {
    "collapsed": false,
    "pycharm": {
     "name": "#%%\n"
    }
   },
   "outputs": [
    {
     "data": {
      "text/html": [
       "<div>\n",
       "<style scoped>\n",
       "    .dataframe tbody tr th:only-of-type {\n",
       "        vertical-align: middle;\n",
       "    }\n",
       "\n",
       "    .dataframe tbody tr th {\n",
       "        vertical-align: top;\n",
       "    }\n",
       "\n",
       "    .dataframe thead th {\n",
       "        text-align: right;\n",
       "    }\n",
       "</style>\n",
       "<table border=\"1\" class=\"dataframe\">\n",
       "  <thead>\n",
       "    <tr style=\"text-align: right;\">\n",
       "      <th></th>\n",
       "      <th>User</th>\n",
       "      <th>Card</th>\n",
       "      <th>Year</th>\n",
       "      <th>Month</th>\n",
       "      <th>Day</th>\n",
       "      <th>Time</th>\n",
       "      <th>Amount</th>\n",
       "      <th>Merchant_Name</th>\n",
       "      <th>Zip</th>\n",
       "      <th>MCC</th>\n",
       "      <th>Errors_Encoded</th>\n",
       "      <th>Use_Chip_Encoded</th>\n",
       "      <th>Merchant_City_Encoded</th>\n",
       "      <th>Merchant_State_Encoded</th>\n",
       "      <th>pred_labels</th>\n",
       "    </tr>\n",
       "  </thead>\n",
       "  <tbody>\n",
       "    <tr>\n",
       "      <th>3</th>\n",
       "      <td>-1.752994</td>\n",
       "      <td>-0.957140</td>\n",
       "      <td>-1.944223</td>\n",
       "      <td>0.714457</td>\n",
       "      <td>-0.421157</td>\n",
       "      <td>-1.274202</td>\n",
       "      <td>0.962603</td>\n",
       "      <td>0.994219</td>\n",
       "      <td>1.484314</td>\n",
       "      <td>-0.126723</td>\n",
       "      <td>1.144775</td>\n",
       "      <td>0.740965</td>\n",
       "      <td>-0.161241</td>\n",
       "      <td>-1.006624</td>\n",
       "      <td>-0.712751</td>\n",
       "    </tr>\n",
       "    <tr>\n",
       "      <th>51</th>\n",
       "      <td>-1.752994</td>\n",
       "      <td>-0.957140</td>\n",
       "      <td>-1.748905</td>\n",
       "      <td>1.002619</td>\n",
       "      <td>-1.669944</td>\n",
       "      <td>-1.274202</td>\n",
       "      <td>0.949173</td>\n",
       "      <td>0.536395</td>\n",
       "      <td>1.484314</td>\n",
       "      <td>-0.254109</td>\n",
       "      <td>1.144775</td>\n",
       "      <td>0.740965</td>\n",
       "      <td>-0.161241</td>\n",
       "      <td>-1.006624</td>\n",
       "      <td>-0.712751</td>\n",
       "    </tr>\n",
       "    <tr>\n",
       "      <th>86</th>\n",
       "      <td>-1.752994</td>\n",
       "      <td>-0.957140</td>\n",
       "      <td>-1.358269</td>\n",
       "      <td>-1.302675</td>\n",
       "      <td>-0.648210</td>\n",
       "      <td>1.276281</td>\n",
       "      <td>-0.493461</td>\n",
       "      <td>1.368759</td>\n",
       "      <td>1.484314</td>\n",
       "      <td>0.448233</td>\n",
       "      <td>0.520629</td>\n",
       "      <td>0.740965</td>\n",
       "      <td>-0.161241</td>\n",
       "      <td>-1.006624</td>\n",
       "      <td>0.642432</td>\n",
       "    </tr>\n",
       "    <tr>\n",
       "      <th>100</th>\n",
       "      <td>-1.752994</td>\n",
       "      <td>-0.957140</td>\n",
       "      <td>-1.358269</td>\n",
       "      <td>-0.438190</td>\n",
       "      <td>-0.307631</td>\n",
       "      <td>0.099135</td>\n",
       "      <td>0.130762</td>\n",
       "      <td>0.560718</td>\n",
       "      <td>1.247197</td>\n",
       "      <td>0.022467</td>\n",
       "      <td>1.352823</td>\n",
       "      <td>0.740965</td>\n",
       "      <td>1.662819</td>\n",
       "      <td>1.545066</td>\n",
       "      <td>-0.712751</td>\n",
       "    </tr>\n",
       "    <tr>\n",
       "      <th>119</th>\n",
       "      <td>-1.752994</td>\n",
       "      <td>-0.957140</td>\n",
       "      <td>-1.358269</td>\n",
       "      <td>1.290781</td>\n",
       "      <td>1.281734</td>\n",
       "      <td>-1.274202</td>\n",
       "      <td>0.913542</td>\n",
       "      <td>0.076121</td>\n",
       "      <td>1.484314</td>\n",
       "      <td>-0.241485</td>\n",
       "      <td>1.144775</td>\n",
       "      <td>0.740965</td>\n",
       "      <td>-0.161241</td>\n",
       "      <td>-1.006624</td>\n",
       "      <td>-1.390342</td>\n",
       "    </tr>\n",
       "    <tr>\n",
       "      <th>...</th>\n",
       "      <td>...</td>\n",
       "      <td>...</td>\n",
       "      <td>...</td>\n",
       "      <td>...</td>\n",
       "      <td>...</td>\n",
       "      <td>...</td>\n",
       "      <td>...</td>\n",
       "      <td>...</td>\n",
       "      <td>...</td>\n",
       "      <td>...</td>\n",
       "      <td>...</td>\n",
       "      <td>...</td>\n",
       "      <td>...</td>\n",
       "      <td>...</td>\n",
       "      <td>...</td>\n",
       "    </tr>\n",
       "    <tr>\n",
       "      <th>483412</th>\n",
       "      <td>-1.032932</td>\n",
       "      <td>-0.957140</td>\n",
       "      <td>-0.772314</td>\n",
       "      <td>-1.014514</td>\n",
       "      <td>-1.102314</td>\n",
       "      <td>0.687708</td>\n",
       "      <td>-0.449060</td>\n",
       "      <td>1.135428</td>\n",
       "      <td>-1.079146</td>\n",
       "      <td>-0.126723</td>\n",
       "      <td>-0.935712</td>\n",
       "      <td>0.740965</td>\n",
       "      <td>1.206220</td>\n",
       "      <td>0.594126</td>\n",
       "      <td>0.642432</td>\n",
       "    </tr>\n",
       "    <tr>\n",
       "      <th>1680082</th>\n",
       "      <td>0.643710</td>\n",
       "      <td>-0.957140</td>\n",
       "      <td>-0.576996</td>\n",
       "      <td>1.578942</td>\n",
       "      <td>1.281734</td>\n",
       "      <td>-1.078011</td>\n",
       "      <td>-0.571027</td>\n",
       "      <td>-0.463015</td>\n",
       "      <td>-0.183975</td>\n",
       "      <td>2.857080</td>\n",
       "      <td>-0.935712</td>\n",
       "      <td>0.740965</td>\n",
       "      <td>0.293357</td>\n",
       "      <td>1.386576</td>\n",
       "      <td>-1.390342</td>\n",
       "    </tr>\n",
       "    <tr>\n",
       "      <th>2112367</th>\n",
       "      <td>1.270917</td>\n",
       "      <td>1.885635</td>\n",
       "      <td>-1.553587</td>\n",
       "      <td>-0.150028</td>\n",
       "      <td>0.600578</td>\n",
       "      <td>0.099135</td>\n",
       "      <td>-0.614057</td>\n",
       "      <td>-1.444250</td>\n",
       "      <td>-0.696809</td>\n",
       "      <td>0.333471</td>\n",
       "      <td>-0.935712</td>\n",
       "      <td>0.740965</td>\n",
       "      <td>0.632887</td>\n",
       "      <td>0.182051</td>\n",
       "      <td>-0.035160</td>\n",
       "    </tr>\n",
       "    <tr>\n",
       "      <th>1125186</th>\n",
       "      <td>-0.111392</td>\n",
       "      <td>1.174941</td>\n",
       "      <td>1.376185</td>\n",
       "      <td>0.714457</td>\n",
       "      <td>-1.102314</td>\n",
       "      <td>-1.470393</td>\n",
       "      <td>-0.634340</td>\n",
       "      <td>0.017280</td>\n",
       "      <td>-1.353596</td>\n",
       "      <td>0.336914</td>\n",
       "      <td>-0.935712</td>\n",
       "      <td>-0.427694</td>\n",
       "      <td>0.502812</td>\n",
       "      <td>-1.418698</td>\n",
       "      <td>-1.390342</td>\n",
       "    </tr>\n",
       "    <tr>\n",
       "      <th>650915</th>\n",
       "      <td>-0.798167</td>\n",
       "      <td>0.464247</td>\n",
       "      <td>0.985549</td>\n",
       "      <td>-0.726352</td>\n",
       "      <td>0.487051</td>\n",
       "      <td>-1.078011</td>\n",
       "      <td>-0.288584</td>\n",
       "      <td>-0.316914</td>\n",
       "      <td>-1.353596</td>\n",
       "      <td>-0.846279</td>\n",
       "      <td>-0.935712</td>\n",
       "      <td>-0.427694</td>\n",
       "      <td>0.502812</td>\n",
       "      <td>-1.418698</td>\n",
       "      <td>-1.390342</td>\n",
       "    </tr>\n",
       "  </tbody>\n",
       "</table>\n",
       "<p>77184 rows × 15 columns</p>\n",
       "</div>"
      ],
      "text/plain": [
       "             User      Card      Year     Month       Day      Time    Amount  \\\n",
       "3       -1.752994 -0.957140 -1.944223  0.714457 -0.421157 -1.274202  0.962603   \n",
       "51      -1.752994 -0.957140 -1.748905  1.002619 -1.669944 -1.274202  0.949173   \n",
       "86      -1.752994 -0.957140 -1.358269 -1.302675 -0.648210  1.276281 -0.493461   \n",
       "100     -1.752994 -0.957140 -1.358269 -0.438190 -0.307631  0.099135  0.130762   \n",
       "119     -1.752994 -0.957140 -1.358269  1.290781  1.281734 -1.274202  0.913542   \n",
       "...           ...       ...       ...       ...       ...       ...       ...   \n",
       "483412  -1.032932 -0.957140 -0.772314 -1.014514 -1.102314  0.687708 -0.449060   \n",
       "1680082  0.643710 -0.957140 -0.576996  1.578942  1.281734 -1.078011 -0.571027   \n",
       "2112367  1.270917  1.885635 -1.553587 -0.150028  0.600578  0.099135 -0.614057   \n",
       "1125186 -0.111392  1.174941  1.376185  0.714457 -1.102314 -1.470393 -0.634340   \n",
       "650915  -0.798167  0.464247  0.985549 -0.726352  0.487051 -1.078011 -0.288584   \n",
       "\n",
       "         Merchant_Name       Zip       MCC  Errors_Encoded  Use_Chip_Encoded  \\\n",
       "3             0.994219  1.484314 -0.126723        1.144775          0.740965   \n",
       "51            0.536395  1.484314 -0.254109        1.144775          0.740965   \n",
       "86            1.368759  1.484314  0.448233        0.520629          0.740965   \n",
       "100           0.560718  1.247197  0.022467        1.352823          0.740965   \n",
       "119           0.076121  1.484314 -0.241485        1.144775          0.740965   \n",
       "...                ...       ...       ...             ...               ...   \n",
       "483412        1.135428 -1.079146 -0.126723       -0.935712          0.740965   \n",
       "1680082      -0.463015 -0.183975  2.857080       -0.935712          0.740965   \n",
       "2112367      -1.444250 -0.696809  0.333471       -0.935712          0.740965   \n",
       "1125186       0.017280 -1.353596  0.336914       -0.935712         -0.427694   \n",
       "650915       -0.316914 -1.353596 -0.846279       -0.935712         -0.427694   \n",
       "\n",
       "         Merchant_City_Encoded  Merchant_State_Encoded  pred_labels  \n",
       "3                    -0.161241               -1.006624    -0.712751  \n",
       "51                   -0.161241               -1.006624    -0.712751  \n",
       "86                   -0.161241               -1.006624     0.642432  \n",
       "100                   1.662819                1.545066    -0.712751  \n",
       "119                  -0.161241               -1.006624    -1.390342  \n",
       "...                        ...                     ...          ...  \n",
       "483412                1.206220                0.594126     0.642432  \n",
       "1680082               0.293357                1.386576    -1.390342  \n",
       "2112367               0.632887                0.182051    -0.035160  \n",
       "1125186               0.502812               -1.418698    -1.390342  \n",
       "650915                0.502812               -1.418698    -1.390342  \n",
       "\n",
       "[77184 rows x 15 columns]"
      ]
     },
     "execution_count": 67,
     "metadata": {},
     "output_type": "execute_result"
    }
   ],
   "source": [
    "## With PCA, we use standard scaling\n",
    "X_copy.drop(columns=['pred_labels'])\n",
    "X_std=pd.DataFrame(StandardScaler().fit_transform(X_copy),index=X_copy.index,columns=X_copy.columns)\n",
    "X_std"
   ]
  },
  {
   "cell_type": "code",
   "execution_count": 68,
   "metadata": {
    "collapsed": false,
    "pycharm": {
     "name": "#%%\n"
    }
   },
   "outputs": [],
   "source": [
    "pca = PCA()\n",
    "principalcomponents = pca.fit_transform(X_std)"
   ]
  },
  {
   "cell_type": "code",
   "execution_count": 69,
   "metadata": {
    "collapsed": false,
    "pycharm": {
     "name": "#%%\n"
    }
   },
   "outputs": [
    {
     "data": {
      "image/png": "[encoded data removed]",
      "text/plain": [
       "<Figure size 432x288 with 1 Axes>"
      ]
     },
     "metadata": {},
     "output_type": "display_data"
    }
   ],
   "source": [
    "features = range(pca.n_components_)\n",
    "plt.figure()\n",
    "plt.bar(features, pca.explained_variance_ratio_, color='black')\n",
    "plt.xlabel('PCA features')\n",
    "plt.ylabel('variance %')\n",
    "plt.xticks(features)\n",
    "plt.show()\n",
    "## Features with the highest are 0, 1 and 2 which correspond to User, Card and Year respectively"
   ]
  },
  {
   "cell_type": "markdown",
   "metadata": {
    "collapsed": false,
    "pycharm": {
     "name": "#%% md\n"
    }
   },
   "source": [
    "> ### From the above graph we can clearly see that the first three feature components show the highest variance."
   ]
  },
  {
   "cell_type": "code",
   "execution_count": 46,
   "metadata": {
    "collapsed": false,
    "pycharm": {
     "name": "#%%\n"
    }
   },
   "outputs": [
    {
     "data": {
      "text/html": [
       "<div>\n",
       "<style scoped>\n",
       "    .dataframe tbody tr th:only-of-type {\n",
       "        vertical-align: middle;\n",
       "    }\n",
       "\n",
       "    .dataframe tbody tr th {\n",
       "        vertical-align: top;\n",
       "    }\n",
       "\n",
       "    .dataframe thead th {\n",
       "        text-align: right;\n",
       "    }\n",
       "</style>\n",
       "<table border=\"1\" class=\"dataframe\">\n",
       "  <thead>\n",
       "    <tr style=\"text-align: right;\">\n",
       "      <th></th>\n",
       "      <th>0</th>\n",
       "      <th>1</th>\n",
       "      <th>2</th>\n",
       "      <th>3</th>\n",
       "      <th>4</th>\n",
       "      <th>5</th>\n",
       "      <th>6</th>\n",
       "      <th>7</th>\n",
       "      <th>8</th>\n",
       "      <th>9</th>\n",
       "      <th>10</th>\n",
       "      <th>11</th>\n",
       "      <th>12</th>\n",
       "      <th>13</th>\n",
       "      <th>14</th>\n",
       "    </tr>\n",
       "  </thead>\n",
       "  <tbody>\n",
       "    <tr>\n",
       "      <th>0</th>\n",
       "      <td>1.993365</td>\n",
       "      <td>-0.217339</td>\n",
       "      <td>1.844025</td>\n",
       "      <td>-1.223359</td>\n",
       "      <td>1.439991</td>\n",
       "      <td>0.042869</td>\n",
       "      <td>0.313903</td>\n",
       "      <td>-1.970007</td>\n",
       "      <td>-0.737407</td>\n",
       "      <td>0.180980</td>\n",
       "      <td>0.075003</td>\n",
       "      <td>-0.266217</td>\n",
       "      <td>1.523699</td>\n",
       "      <td>-0.279286</td>\n",
       "      <td>0.869663</td>\n",
       "    </tr>\n",
       "    <tr>\n",
       "      <th>1</th>\n",
       "      <td>1.801616</td>\n",
       "      <td>-0.319161</td>\n",
       "      <td>1.788603</td>\n",
       "      <td>-0.951360</td>\n",
       "      <td>1.504811</td>\n",
       "      <td>-0.128293</td>\n",
       "      <td>-0.407250</td>\n",
       "      <td>-2.808809</td>\n",
       "      <td>-0.091118</td>\n",
       "      <td>0.159833</td>\n",
       "      <td>-0.004991</td>\n",
       "      <td>-0.195970</td>\n",
       "      <td>1.363085</td>\n",
       "      <td>-0.498946</td>\n",
       "      <td>0.721983</td>\n",
       "    </tr>\n",
       "    <tr>\n",
       "      <th>2</th>\n",
       "      <td>1.343668</td>\n",
       "      <td>-0.028167</td>\n",
       "      <td>0.445108</td>\n",
       "      <td>-0.473685</td>\n",
       "      <td>0.953140</td>\n",
       "      <td>-2.385899</td>\n",
       "      <td>-0.684854</td>\n",
       "      <td>-0.206685</td>\n",
       "      <td>-1.216826</td>\n",
       "      <td>-0.058560</td>\n",
       "      <td>-0.903760</td>\n",
       "      <td>-1.083780</td>\n",
       "      <td>1.621459</td>\n",
       "      <td>0.509701</td>\n",
       "      <td>0.514849</td>\n",
       "    </tr>\n",
       "    <tr>\n",
       "      <th>3</th>\n",
       "      <td>2.045409</td>\n",
       "      <td>0.449976</td>\n",
       "      <td>1.521573</td>\n",
       "      <td>-0.571623</td>\n",
       "      <td>1.702284</td>\n",
       "      <td>-1.099369</td>\n",
       "      <td>-0.027876</td>\n",
       "      <td>-0.987985</td>\n",
       "      <td>-1.209461</td>\n",
       "      <td>-0.710761</td>\n",
       "      <td>-0.459770</td>\n",
       "      <td>-0.210621</td>\n",
       "      <td>-1.451670</td>\n",
       "      <td>0.597906</td>\n",
       "      <td>0.646037</td>\n",
       "    </tr>\n",
       "    <tr>\n",
       "      <th>4</th>\n",
       "      <td>0.924892</td>\n",
       "      <td>-1.448719</td>\n",
       "      <td>0.849709</td>\n",
       "      <td>0.275121</td>\n",
       "      <td>1.943981</td>\n",
       "      <td>0.494182</td>\n",
       "      <td>1.927180</td>\n",
       "      <td>-1.168710</td>\n",
       "      <td>-0.707248</td>\n",
       "      <td>-0.130948</td>\n",
       "      <td>0.546766</td>\n",
       "      <td>-0.290019</td>\n",
       "      <td>1.959636</td>\n",
       "      <td>1.102740</td>\n",
       "      <td>0.438540</td>\n",
       "    </tr>\n",
       "  </tbody>\n",
       "</table>\n",
       "</div>"
      ],
      "text/plain": [
       "         0         1         2         3         4         5         6   \\\n",
       "0  1.993365 -0.217339  1.844025 -1.223359  1.439991  0.042869  0.313903   \n",
       "1  1.801616 -0.319161  1.788603 -0.951360  1.504811 -0.128293 -0.407250   \n",
       "2  1.343668 -0.028167  0.445108 -0.473685  0.953140 -2.385899 -0.684854   \n",
       "3  2.045409  0.449976  1.521573 -0.571623  1.702284 -1.099369 -0.027876   \n",
       "4  0.924892 -1.448719  0.849709  0.275121  1.943981  0.494182  1.927180   \n",
       "\n",
       "         7         8         9         10        11        12        13  \\\n",
       "0 -1.970007 -0.737407  0.180980  0.075003 -0.266217  1.523699 -0.279286   \n",
       "1 -2.808809 -0.091118  0.159833 -0.004991 -0.195970  1.363085 -0.498946   \n",
       "2 -0.206685 -1.216826 -0.058560 -0.903760 -1.083780  1.621459  0.509701   \n",
       "3 -0.987985 -1.209461 -0.710761 -0.459770 -0.210621 -1.451670  0.597906   \n",
       "4 -1.168710 -0.707248 -0.130948  0.546766 -0.290019  1.959636  1.102740   \n",
       "\n",
       "         14  \n",
       "0  0.869663  \n",
       "1  0.721983  \n",
       "2  0.514849  \n",
       "3  0.646037  \n",
       "4  0.438540  "
      ]
     },
     "execution_count": 46,
     "metadata": {},
     "output_type": "execute_result"
    }
   ],
   "source": [
    "PCA_components = pd.DataFrame(principalcomponents)\n",
    "PCA_components.head()"
   ]
  },
  {
   "cell_type": "markdown",
   "metadata": {
    "collapsed": false,
    "pycharm": {
     "name": "#%% md\n"
    }
   },
   "source": [
    "## KMeans modelling with PCA incorporated (i.e. 3 features)"
   ]
  },
  {
   "cell_type": "code",
   "execution_count": 47,
   "metadata": {
    "collapsed": false,
    "pycharm": {
     "name": "#%%\n"
    }
   },
   "outputs": [],
   "source": [
    "ks = range(2, 10)\n",
    "PCA_inertias = []\n",
    "for k in ks:\n",
    "    # Create a KMeans instance with k clusters: model\n",
    "    model = KMeans(n_clusters=k)\n",
    "\n",
    "    # Fit model to samples\n",
    "    model.fit(PCA_components.iloc[:,:3]) ## Using 3 feature components\n",
    "\n",
    "    # Append the inertia to the list of inertias\n",
    "    PCA_inertias.append(model.inertia_)"
   ]
  },
  {
   "cell_type": "code",
   "execution_count": 48,
   "metadata": {
    "collapsed": false,
    "pycharm": {
     "name": "#%%\n"
    }
   },
   "outputs": [],
   "source": [
    "def pca_cluster(PCA_inertias, scaled_inertia, PCA_Inertia_title, NON_PCA_Inertia_title):\n",
    "    \"\"\"\"Creating a function to show both the PCA inertia in comparison to the NON PCA Intertia\"\"\"\n",
    "\n",
    "    sns.set_theme(style=\"whitegrid\")\n",
    "    fig, axs = plt.subplots(1, 2, figsize=(15, 8))\n",
    "    plt.subplot(1, 2,1)\n",
    "    plt.plot(ks, PCA_inertias, color=\"#EF5B0C\",marker='o')\n",
    "    plt.xlabel('Number of clusters')\n",
    "    plt.ylabel('inertia')\n",
    "    plt.title(PCA_Inertia_title)\n",
    "    plt.grid(True)\n",
    "\n",
    "    plt.subplot(1, 2, 2)\n",
    "    plt.plot(ks, scaled_inertia,color=\"#FA2FB5\",marker='o')\n",
    "    plt.xlabel('Number of clusters')\n",
    "    plt.ylabel('inertia')\n",
    "    plt.title(NON_PCA_Inertia_title)\n",
    "    plt.grid(True)\n",
    "\n",
    "\n",
    "\n",
    "    plt.show()"
   ]
  },
  {
   "cell_type": "code",
   "execution_count": 49,
   "metadata": {
    "collapsed": false,
    "pycharm": {
     "name": "#%%\n"
    }
   },
   "outputs": [
    {
     "data": {
      "image/png": "[encoded data removed]",
      "text/plain": [
       "<Figure size 1080x576 with 2 Axes>"
      ]
     },
     "metadata": {},
     "output_type": "display_data"
    }
   ],
   "source": [
    "pca_cluster(PCA_inertias, scaled_inertia, 'PCA Inertia Standard Scale', 'NON PCA Inertia Min-Max Scale')"
   ]
  },
  {
   "cell_type": "markdown",
   "metadata": {
    "collapsed": false,
    "pycharm": {
     "name": "#%% md\n"
    }
   },
   "source": [
    "## Hierarchical Clustering"
   ]
  },
  {
   "cell_type": "code",
   "execution_count": 70,
   "metadata": {
    "pycharm": {
     "name": "#%%\n"
    }
   },
   "outputs": [
    {
     "data": {
      "text/html": [
       "<div>\n",
       "<style scoped>\n",
       "    .dataframe tbody tr th:only-of-type {\n",
       "        vertical-align: middle;\n",
       "    }\n",
       "\n",
       "    .dataframe tbody tr th {\n",
       "        vertical-align: top;\n",
       "    }\n",
       "\n",
       "    .dataframe thead th {\n",
       "        text-align: right;\n",
       "    }\n",
       "</style>\n",
       "<table border=\"1\" class=\"dataframe\">\n",
       "  <thead>\n",
       "    <tr style=\"text-align: right;\">\n",
       "      <th></th>\n",
       "      <th>User</th>\n",
       "      <th>Card</th>\n",
       "      <th>Year</th>\n",
       "      <th>Month</th>\n",
       "      <th>Day</th>\n",
       "      <th>Time</th>\n",
       "      <th>Amount</th>\n",
       "      <th>Merchant_Name</th>\n",
       "      <th>Zip</th>\n",
       "      <th>MCC</th>\n",
       "      <th>Errors_Encoded</th>\n",
       "      <th>Use_Chip_Encoded</th>\n",
       "      <th>Merchant_City_Encoded</th>\n",
       "      <th>Merchant_State_Encoded</th>\n",
       "      <th>pred_labels</th>\n",
       "    </tr>\n",
       "  </thead>\n",
       "  <tbody>\n",
       "    <tr>\n",
       "      <th>3</th>\n",
       "      <td>0</td>\n",
       "      <td>0</td>\n",
       "      <td>2002</td>\n",
       "      <td>9</td>\n",
       "      <td>12</td>\n",
       "      <td>6</td>\n",
       "      <td>122.10</td>\n",
       "      <td>4060646732831064559</td>\n",
       "      <td>91750.0</td>\n",
       "      <td>5411</td>\n",
       "      <td>20</td>\n",
       "      <td>2</td>\n",
       "      <td>5150</td>\n",
       "      <td>26</td>\n",
       "      <td>1</td>\n",
       "    </tr>\n",
       "    <tr>\n",
       "      <th>51</th>\n",
       "      <td>0</td>\n",
       "      <td>0</td>\n",
       "      <td>2003</td>\n",
       "      <td>10</td>\n",
       "      <td>1</td>\n",
       "      <td>6</td>\n",
       "      <td>121.12</td>\n",
       "      <td>1913477460590765860</td>\n",
       "      <td>91750.0</td>\n",
       "      <td>5300</td>\n",
       "      <td>20</td>\n",
       "      <td>2</td>\n",
       "      <td>5150</td>\n",
       "      <td>26</td>\n",
       "      <td>1</td>\n",
       "    </tr>\n",
       "    <tr>\n",
       "      <th>86</th>\n",
       "      <td>0</td>\n",
       "      <td>0</td>\n",
       "      <td>2005</td>\n",
       "      <td>2</td>\n",
       "      <td>10</td>\n",
       "      <td>19</td>\n",
       "      <td>15.85</td>\n",
       "      <td>5817218446178736267</td>\n",
       "      <td>91750.0</td>\n",
       "      <td>5912</td>\n",
       "      <td>14</td>\n",
       "      <td>2</td>\n",
       "      <td>5150</td>\n",
       "      <td>26</td>\n",
       "      <td>3</td>\n",
       "    </tr>\n",
       "    <tr>\n",
       "      <th>100</th>\n",
       "      <td>0</td>\n",
       "      <td>0</td>\n",
       "      <td>2005</td>\n",
       "      <td>5</td>\n",
       "      <td>13</td>\n",
       "      <td>13</td>\n",
       "      <td>61.40</td>\n",
       "      <td>2027553650310142703</td>\n",
       "      <td>84084.0</td>\n",
       "      <td>5541</td>\n",
       "      <td>22</td>\n",
       "      <td>2</td>\n",
       "      <td>10619</td>\n",
       "      <td>187</td>\n",
       "      <td>1</td>\n",
       "    </tr>\n",
       "    <tr>\n",
       "      <th>119</th>\n",
       "      <td>0</td>\n",
       "      <td>0</td>\n",
       "      <td>2005</td>\n",
       "      <td>11</td>\n",
       "      <td>27</td>\n",
       "      <td>6</td>\n",
       "      <td>118.52</td>\n",
       "      <td>-245178307025547046</td>\n",
       "      <td>91750.0</td>\n",
       "      <td>5311</td>\n",
       "      <td>20</td>\n",
       "      <td>2</td>\n",
       "      <td>5150</td>\n",
       "      <td>26</td>\n",
       "      <td>0</td>\n",
       "    </tr>\n",
       "  </tbody>\n",
       "</table>\n",
       "</div>"
      ],
      "text/plain": [
       "     User  Card  Year  Month  Day  Time  Amount        Merchant_Name      Zip  \\\n",
       "3       0     0  2002      9   12     6  122.10  4060646732831064559  91750.0   \n",
       "51      0     0  2003     10    1     6  121.12  1913477460590765860  91750.0   \n",
       "86      0     0  2005      2   10    19   15.85  5817218446178736267  91750.0   \n",
       "100     0     0  2005      5   13    13   61.40  2027553650310142703  84084.0   \n",
       "119     0     0  2005     11   27     6  118.52  -245178307025547046  91750.0   \n",
       "\n",
       "      MCC  Errors_Encoded  Use_Chip_Encoded  Merchant_City_Encoded  \\\n",
       "3    5411              20                 2                   5150   \n",
       "51   5300              20                 2                   5150   \n",
       "86   5912              14                 2                   5150   \n",
       "100  5541              22                 2                  10619   \n",
       "119  5311              20                 2                   5150   \n",
       "\n",
       "     Merchant_State_Encoded  pred_labels  \n",
       "3                        26            1  \n",
       "51                       26            1  \n",
       "86                       26            3  \n",
       "100                     187            1  \n",
       "119                      26            0  "
      ]
     },
     "execution_count": 70,
     "metadata": {},
     "output_type": "execute_result"
    }
   ],
   "source": []
  },
  {
   "cell_type": "code",
   "execution_count": 51,
   "metadata": {
    "collapsed": false,
    "pycharm": {
     "name": "#%%\n"
    }
   },
   "outputs": [],
   "source": [
    "# scaler = MinMaxScaler()\n",
    "# X_scaled = scaler.fit_transform(X_copy)\n",
    "# x = X_scaled\n",
    "# y = []\n",
    "#\n",
    "# # data = list(zip(x, y))\n",
    "#\n",
    "# hierarchical_cluster = AgglomerativeClustering(n_clusters=5, affinity='euclidean')\n",
    "# labels = hierarchical_cluster.fit_predict(X_scaled)\n",
    "# print(labels)\n",
    "# plt.scatter(x, y, c=labels)\n",
    "# plt.show()"
   ]
  },
  {
   "cell_type": "markdown",
   "metadata": {
    "collapsed": false,
    "pycharm": {
     "name": "#%% md\n"
    }
   },
   "source": [
    "> ### If we run the above code block we get the following error message:\n",
    "> ### MemoryError: Unable to allocate 22.2 GiB for an array with shape (2978646336,) and data type float64\n",
    ">\n",
    "> ### We did further research about this and discovered that the problem with Hierarchical clustering is:\n",
    ">\n",
    "> ### Space complexity: The space required for the Hierarchical clustering Technique is very high when the number of data points are high as we need to store the similarity matrix in the RAM. The space complexity is the order of the square of n. Space complexity = O(n²) where n is the number of data points.\n",
    "> ### Hence we will use DBSCAN and see what results this will produce"
   ]
  },
  {
   "cell_type": "markdown",
   "metadata": {
    "collapsed": false,
    "pycharm": {
     "name": "#%% md\n"
    }
   },
   "source": [
    "## DBSCAN"
   ]
  },
  {
   "cell_type": "markdown",
   "metadata": {
    "collapsed": false,
    "pycharm": {
     "name": "#%% md\n"
    }
   },
   "source": [
    "<img src=\"https://miro.medium.com/max/627/1*yT96veo7Zb5QeswV7Vr7YQ.png\">"
   ]
  },
  {
   "cell_type": "code",
   "execution_count": 71,
   "metadata": {
    "collapsed": false,
    "pycharm": {
     "name": "#%%\n"
    }
   },
   "outputs": [],
   "source": [
    "scaler = MinMaxScaler()\n",
    "X_copy = X.drop(columns=['Suspected_Fraud']).copy()\n",
    "\n",
    "X_scaled = scaler.fit_transform(X_copy)\n",
    "\n",
    "db = DBSCAN(eps=0.5, min_samples=6, n_jobs=-1).fit(X_scaled) ## We played around with tweaking the epsilon value and minimum sample size.\n",
    "\n",
    "# Get the cluster labels (aka numbers)\n",
    "pred_labels = db.labels_\n",
    "\n",
    "# Count the total number of clusters\n",
    "n_clusters = len(set(pred_labels)) - (1 if -1 in pred_labels else 0)"
   ]
  },
  {
   "cell_type": "code",
   "execution_count": 72,
   "metadata": {
    "collapsed": false,
    "pycharm": {
     "name": "#%%\n"
    }
   },
   "outputs": [
    {
     "name": "stdout",
     "output_type": "stream",
     "text": [
      "Estimated number of clusters: 5\n"
     ]
    }
   ],
   "source": [
    "# Print model results\n",
    "print(f'Estimated number of clusters: {n_clusters}')"
   ]
  },
  {
   "cell_type": "markdown",
   "metadata": {
    "collapsed": false,
    "pycharm": {
     "name": "#%% md\n"
    }
   },
   "source": [
    "<li> After having played around with the eps and min samples we achieved 5 clusters and we thought we would explore this further since our KMeans produced 5 clusters as an ideal K value."
   ]
  },
  {
   "cell_type": "code",
   "execution_count": 54,
   "metadata": {
    "pycharm": {
     "name": "#%%\n"
    }
   },
   "outputs": [
    {
     "name": "stdout",
     "output_type": "stream",
     "text": [
      "Silhouette Coefficient: 0.190\n"
     ]
    }
   ],
   "source": [
    "# Print model results\n",
    "print(f'Silhouette Coefficient: {metrics.silhouette_score(X_scaled, pred_labels):0.3f}')"
   ]
  },
  {
   "cell_type": "code",
   "execution_count": 55,
   "metadata": {
    "collapsed": false,
    "pycharm": {
     "name": "#%%\n"
    }
   },
   "outputs": [
    {
     "name": "stdout",
     "output_type": "stream",
     "text": [
      "{0, 1, 2, 3, 4, -1}\n"
     ]
    }
   ],
   "source": [
    "print(set(pred_labels)) ## Printing the unique predicted labels"
   ]
  },
  {
   "cell_type": "markdown",
   "metadata": {
    "pycharm": {
     "name": "#%% md\n"
    }
   },
   "source": [
    "## Visualize DBSCAN Plot"
   ]
  },
  {
   "cell_type": "code",
   "execution_count": 73,
   "metadata": {
    "collapsed": false,
    "pycharm": {
     "name": "#%%\n"
    }
   },
   "outputs": [],
   "source": [
    "## Creating a copy dataframe of the scaled data and adding anew column called predicted labels\n",
    "X_sc_copy = X_scaled.copy()\n",
    "X_sc_copy = pd.DataFrame(X_sc_copy)\n",
    "X_sc_copy['pred_labels'] = pred_labels"
   ]
  },
  {
   "cell_type": "code",
   "execution_count": 57,
   "metadata": {
    "collapsed": false,
    "pycharm": {
     "name": "#%%\n"
    }
   },
   "outputs": [],
   "source": [
    "## Colours used for plotting the graph:\n",
    "## #3CCF4E = Green\n",
    "## #D61C4E = Pink\n",
    "## #3330E4 = Dark Blue\n",
    "## #EF5B0C = Orange\n",
    "## #EAE509 = Yellow\n",
    "## #1B2430 = Dark Grey"
   ]
  },
  {
   "cell_type": "code",
   "execution_count": 58,
   "metadata": {
    "collapsed": false,
    "pycharm": {
     "name": "#%%\n"
    }
   },
   "outputs": [
    {
     "data": {
      "image/png": "[encoded data removed]",
      "text/plain": [
       "<Figure size 1080x576 with 4 Axes>"
      ]
     },
     "metadata": {},
     "output_type": "display_data"
    }
   ],
   "source": [
    "plot_cluster_subplots(X_sc_copy,n_clusters=5,main_title='Cluster Plot')"
   ]
  },
  {
   "cell_type": "code",
   "execution_count": 59,
   "metadata": {
    "pycharm": {
     "name": "#%%\n"
    }
   },
   "outputs": [
    {
     "name": "stdout",
     "output_type": "stream",
     "text": [
      "0 User\n",
      "1 Card\n",
      "2 Year\n",
      "3 Month\n",
      "4 Day\n",
      "5 Time\n",
      "6 Amount\n",
      "7 Merchant_Name\n",
      "8 Zip\n",
      "9 MCC\n",
      "10 Errors_Encoded\n",
      "11 Use_Chip_Encoded\n",
      "12 Merchant_City_Encoded\n",
      "13 Merchant_State_Encoded\n"
     ]
    }
   ],
   "source": [
    "X_temp = pd.DataFrame(X_scaled,index=X_copy.index,columns=X_copy.columns)\n",
    "list(X_temp.columns)\n",
    "for i,col_name in enumerate(list(X_temp.columns)):\n",
    "    print(i,col_name)"
   ]
  },
  {
   "cell_type": "markdown",
   "metadata": {
    "collapsed": false,
    "pycharm": {
     "name": "#%% md\n"
    }
   },
   "source": [
    "> ## Test data"
   ]
  },
  {
   "cell_type": "code",
   "execution_count": 60,
   "metadata": {
    "collapsed": false,
    "pycharm": {
     "name": "#%%\n"
    }
   },
   "outputs": [
    {
     "name": "stdout",
     "output_type": "stream",
     "text": [
      "(88592, 15)\n"
     ]
    }
   ],
   "source": [
    "X_new = subsample_data(cred_trans,n=50000,random_state=25)\n",
    "scaler = MinMaxScaler()\n",
    "X_scaled_new_sample = scaler.fit_transform(X_new)"
   ]
  },
  {
   "cell_type": "code",
   "execution_count": 75,
   "metadata": {
    "collapsed": false,
    "pycharm": {
     "name": "#%%\n"
    }
   },
   "outputs": [],
   "source": [
    "def cluster_review(X,y,method=None):\n",
    "    \"\"\"\n",
    "    Cluster Review\n",
    "    \"\"\"\n",
    "\n",
    "    colours=[plt.cm.Set1(c) for c  in y]\n",
    "    \n",
    "    if method is None:\n",
    "        fig,axs=plt.subplots(1,2)\n",
    "        axs[0].scatter(X[:,0],X[:,1])\n",
    "        axs[1].scatter(X[:,0],X[:,1],color=colours)\n",
    "    else:\n",
    "\n",
    "        try:\n",
    "            labels=method.fit_predict(X)\n",
    "            pred_colours=[]\n",
    "            for n in (labels):\n",
    "                if n==-1:\n",
    "                    pred_colours.append(plt.cm.gray(0))\n",
    "                else:\n",
    "                    pred_colours.append(plt.cm.Set1(n))\n",
    "            fig,axs=plt.subplots(1,3)\n",
    "            axs[0].scatter(X[:,0],X[:,1])\n",
    "            axs[1].scatter(X[:,0],X[:,1],color=pred_colours)\n",
    "            axs[2].scatter(X[:,0],X[:,1],color=colours)\n",
    "        except Exception as e:\n",
    "            print(f'please use a valid clustering technique (error{e})')\n",
    "\n",
    "    plt.show()"
   ]
  },
  {
   "cell_type": "code",
   "execution_count": 76,
   "metadata": {
    "collapsed": false,
    "pycharm": {
     "name": "#%%\n"
    }
   },
   "outputs": [
    {
     "data": {
      "image/png": "[encoded data removed]",
      "text/plain": [
       "<Figure size 432x288 with 3 Axes>"
      ]
     },
     "metadata": {},
     "output_type": "display_data"
    }
   ],
   "source": [
    "db1 = DBSCAN(eps=0.5, min_samples=6, n_jobs=-1)\n",
    "cluster_review(X_scaled,X['Suspected_Fraud'],method=db1)"
   ]
  },
  {
   "cell_type": "markdown",
   "metadata": {
    "pycharm": {
     "name": "#%% md\n"
    }
   },
   "source": [
    "Testing against a different sample of Data\n",
    "(We created a new sample data set with 88592 rows of data"
   ]
  },
  {
   "cell_type": "code",
   "execution_count": 77,
   "metadata": {
    "collapsed": false,
    "pycharm": {
     "name": "#%%\n"
    }
   },
   "outputs": [
    {
     "data": {
      "image/png": "[encoded data removed]",
      "text/plain": [
       "<Figure size 432x288 with 3 Axes>"
      ]
     },
     "metadata": {},
     "output_type": "display_data"
    }
   ],
   "source": [
    "db2 = DBSCAN(eps=0.5, min_samples=6, n_jobs=-1)\n",
    "\n",
    "cluster_review(X_scaled_new_sample,X_new['Errors_Encoded'],method=db2)"
   ]
  },
  {
   "cell_type": "code",
   "execution_count": null,
   "metadata": {
    "collapsed": false,
    "pycharm": {
     "name": "#%%\n"
    }
   },
   "outputs": [],
   "source": []
  }
 ],
 "metadata": {
  "kernelspec": {
   "display_name": "Python 3.9.12 ('base')",
   "language": "python",
   "name": "python3"
  },
  "language_info": {
   "codemirror_mode": {
    "name": "ipython",
    "version": 3
   },
   "file_extension": ".py",
   "mimetype": "text/x-python",
   "name": "python",
   "nbconvert_exporter": "python",
   "pygments_lexer": "ipython3",
   "version": "3.9.12"
  },
  "vscode": {
   "interpreter": {
    "hash": "e42634819b8c191a5d07eaf23810ff32516dd8d3875f28ec3e488928fbd3c187"
   }
  }
 },
 "nbformat": 4,
 "nbformat_minor": 0
}
